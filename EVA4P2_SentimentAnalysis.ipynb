{
  "nbformat": 4,
  "nbformat_minor": 0,
  "metadata": {
    "kernelspec": {
      "display_name": "Python 3",
      "language": "python",
      "name": "python3"
    },
    "language_info": {
      "codemirror_mode": {
        "name": "ipython",
        "version": 3
      },
      "file_extension": ".py",
      "mimetype": "text/x-python",
      "name": "python",
      "nbconvert_exporter": "python",
      "pygments_lexer": "ipython3",
      "version": "3.7.0"
    },
    "colab": {
      "name": "EVA4P2_SentimentAnalysis.ipynb",
      "provenance": [],
      "collapsed_sections": [],
      "include_colab_link": true
    },
    "accelerator": "GPU"
  },
  "cells": [
    {
      "cell_type": "markdown",
      "metadata": {
        "id": "view-in-github",
        "colab_type": "text"
      },
      "source": [
        "<a href=\"https://colab.research.google.com/github/rajy4683/EVA4P2/blob/master/EVA4P2_SentimentAnalysis.ipynb\" target=\"_parent\"><img src=\"https://colab.research.google.com/assets/colab-badge.svg\" alt=\"Open In Colab\"/></a>"
      ]
    },
    {
      "cell_type": "code",
      "metadata": {
        "id": "_zEMwkVYM5ef",
        "outputId": "976f20a6-f17a-4b15-aada-bdc7e4abe15a",
        "colab": {
          "base_uri": "https://localhost:8080/",
          "height": 353
        }
      },
      "source": [
        "!nvidia-smi"
      ],
      "execution_count": 1,
      "outputs": [
        {
          "output_type": "stream",
          "text": [
            "Sat Oct 17 19:21:25 2020       \n",
            "+-----------------------------------------------------------------------------+\n",
            "| NVIDIA-SMI 455.23.05    Driver Version: 418.67       CUDA Version: 10.1     |\n",
            "|-------------------------------+----------------------+----------------------+\n",
            "| GPU  Name        Persistence-M| Bus-Id        Disp.A | Volatile Uncorr. ECC |\n",
            "| Fan  Temp  Perf  Pwr:Usage/Cap|         Memory-Usage | GPU-Util  Compute M. |\n",
            "|                               |                      |               MIG M. |\n",
            "|===============================+======================+======================|\n",
            "|   0  Tesla P100-PCIE...  Off  | 00000000:00:04.0 Off |                    0 |\n",
            "| N/A   51C    P0    33W / 250W |      0MiB / 16280MiB |      0%      Default |\n",
            "|                               |                      |                 ERR! |\n",
            "+-------------------------------+----------------------+----------------------+\n",
            "                                                                               \n",
            "+-----------------------------------------------------------------------------+\n",
            "| Processes:                                                                  |\n",
            "|  GPU   GI   CI        PID   Type   Process name                  GPU Memory |\n",
            "|        ID   ID                                                   Usage      |\n",
            "|=============================================================================|\n",
            "|  No running processes found                                                 |\n",
            "+-----------------------------------------------------------------------------+\n"
          ],
          "name": "stdout"
        }
      ]
    },
    {
      "cell_type": "markdown",
      "metadata": {
        "id": "EFXA3BeONGhK"
      },
      "source": [
        "# 2 - Updated Sentiment Analysis\n",
        "\n",
        "In the previous notebook, we got the fundamentals down for sentiment analysis. In this notebook, we'll actually get decent results.\n",
        "\n",
        "We will use:\n",
        "- packed padded sequences\n",
        "- pre-trained word embeddings\n",
        "- different RNN architecture\n",
        "- bidirectional RNN\n",
        "- multi-layer RNN\n",
        "- regularization\n",
        "- a different optimizer\n",
        "\n",
        "This will allow us to achieve ~84% test accuracy."
      ]
    },
    {
      "cell_type": "markdown",
      "metadata": {
        "id": "qaqiD36uNGhM"
      },
      "source": [
        "## Preparing Data\n",
        "\n",
        "As before, we'll set the seed, define the `Fields` and get the train/valid/test splits.\n",
        "\n",
        "We'll be using *packed padded sequences*, which will make our RNN only process the non-padded elements of our sequence, and for any padded element the `output` will be a zero tensor. To use packed padded sequences, we have to tell the RNN how long the actual sequences are. We do this by setting `include_lengths = True` for our `TEXT` field. This will cause `batch.text` to now be a tuple with the first element being our sentence (a numericalized tensor that has been padded) and the second element being the actual lengths of our sentences."
      ]
    },
    {
      "cell_type": "code",
      "metadata": {
        "id": "0AWdyA6Ce4A6"
      },
      "source": [
        "!pip install https://download.pytorch.org/whl/cu92/torchvision-0.6.0%2Bcu92-cp36-cp36m-linux_x86_64.whl\n",
        "!pip install https://download.pytorch.org/whl/cu92/torch-1.5.0%2Bcu92-cp36-cp36m-linux_x86_64.whl"
      ],
      "execution_count": null,
      "outputs": []
    },
    {
      "cell_type": "code",
      "metadata": {
        "id": "oalMASBqNGhN"
      },
      "source": [
        "import torch\n",
        "from torchtext import data\n",
        "from torchtext import datasets\n",
        "import os\n",
        "import json\n",
        "import base64\n",
        "import requests\n",
        "import glob\n",
        "import requests\n",
        "import numpy as np\n",
        "import io\n",
        "import sys,glob\n",
        "import boto3\n",
        "import io\n",
        "import json\n",
        "import base64\n",
        "import numpy as np\n",
        "\n",
        "\n",
        "sys.path.append(\"/content/drive/My Drive/EVA4\")\n",
        "sys.path.append(\"/content/drive/My Drive/EVA4/RekogNizer\")\n",
        "SEED = 1234\n",
        "\n",
        "torch.manual_seed(SEED)\n",
        "torch.backends.cudnn.deterministic = True\n",
        "\n",
        "TEXT = data.Field(tokenize = 'spacy', include_lengths = True)\n",
        "LABEL = data.LabelField(dtype = torch.float)"
      ],
      "execution_count": 2,
      "outputs": []
    },
    {
      "cell_type": "code",
      "metadata": {
        "id": "ZxjMQ9kdfneR",
        "outputId": "b9124ea7-b32c-4341-e172-9fd0bbe8d8c7",
        "colab": {
          "base_uri": "https://localhost:8080/",
          "height": 35
        }
      },
      "source": [
        "torch.__version__"
      ],
      "execution_count": 3,
      "outputs": [
        {
          "output_type": "execute_result",
          "data": {
            "application/vnd.google.colaboratory.intrinsic+json": {
              "type": "string"
            },
            "text/plain": [
              "'1.5.0+cu92'"
            ]
          },
          "metadata": {
            "tags": []
          },
          "execution_count": 3
        }
      ]
    },
    {
      "cell_type": "code",
      "metadata": {
        "id": "Bte7AFnFs8iG",
        "outputId": "9388bb3b-c715-41ee-a1d3-674181999d64",
        "colab": {
          "base_uri": "https://localhost:8080/",
          "height": 34
        }
      },
      "source": [
        "import requests\n",
        "\n",
        "url = 'https://n6axj3jn08.execute-api.ap-south-1.amazonaws.com/dev/classify'\n",
        "myobj = {'text': 'some really really bad movie'}\n",
        "\n",
        "x = requests.post(url, json = myobj)\n",
        "\n",
        "x.content"
      ],
      "execution_count": 5,
      "outputs": [
        {
          "output_type": "execute_result",
          "data": {
            "text/plain": [
              "b'{\"tokens\": [\"some\", \"really\", \"really\", \"bad\", \"movie\"]}'"
            ]
          },
          "metadata": {
            "tags": []
          },
          "execution_count": 5
        }
      ]
    },
    {
      "cell_type": "code",
      "metadata": {
        "id": "I78-wgBzPvkD",
        "outputId": "d0553520-277a-4b83-ac42-13ca1624174f",
        "colab": {
          "base_uri": "https://localhost:8080/",
          "height": 34
        }
      },
      "source": [
        "from google.colab import drive\n",
        "drive.mount('/content/drive')"
      ],
      "execution_count": 3,
      "outputs": [
        {
          "output_type": "stream",
          "text": [
            "Drive already mounted at /content/drive; to attempt to forcibly remount, call drive.mount(\"/content/drive\", force_remount=True).\n"
          ],
          "name": "stdout"
        }
      ]
    },
    {
      "cell_type": "markdown",
      "metadata": {
        "id": "V9335LIJNGhR"
      },
      "source": [
        "We then load the IMDb dataset."
      ]
    },
    {
      "cell_type": "code",
      "metadata": {
        "id": "WsVaCQXkNGhS"
      },
      "source": [
        "from torchtext import datasets\n",
        "\n",
        "train_data, test_data = datasets.IMDB.splits(TEXT, LABEL)"
      ],
      "execution_count": 4,
      "outputs": []
    },
    {
      "cell_type": "markdown",
      "metadata": {
        "id": "hhPXeYcbNGhV"
      },
      "source": [
        "Then create the validation set from our training set."
      ]
    },
    {
      "cell_type": "code",
      "metadata": {
        "id": "7lY862q5NGhW"
      },
      "source": [
        "import random\n",
        "\n",
        "train_data, valid_data = train_data.split(random_state = random.seed(SEED))"
      ],
      "execution_count": 5,
      "outputs": []
    },
    {
      "cell_type": "markdown",
      "metadata": {
        "id": "As8jc4kpNGhZ"
      },
      "source": [
        "Next is the use of pre-trained word embeddings. Now, instead of having our word embeddings initialized randomly, they are initialized with these pre-trained vectors.\n",
        "We get these vectors simply by specifying which vectors we want and passing it as an argument to `build_vocab`. `TorchText` handles downloading the vectors and associating them with the correct words in our vocabulary.\n",
        "\n",
        "Here, we'll be using the `\"glove.6B.100d\" vectors\"`. `glove` is the algorithm used to calculate the vectors, go [here](https://nlp.stanford.edu/projects/glove/) for more. `6B` indicates these vectors were trained on 6 billion tokens and `100d` indicates these vectors are 100-dimensional.\n",
        "\n",
        "You can see the other available vectors [here](https://github.com/pytorch/text/blob/master/torchtext/vocab.py#L113).\n",
        "\n",
        "The theory is that these pre-trained vectors already have words with similar semantic meaning close together in vector space, e.g. \"terrible\", \"awful\", \"dreadful\" are nearby. This gives our embedding layer a good initialization as it does not have to learn these relations from scratch.\n",
        "\n",
        "**Note**: these vectors are about 862MB, so watch out if you have a limited internet connection.\n",
        "\n",
        "By default, TorchText will initialize words in your vocabulary but not in your pre-trained embeddings to zero. We don't want this, and instead initialize them randomly by setting `unk_init` to `torch.Tensor.normal_`. This will now initialize those words via a Gaussian distribution."
      ]
    },
    {
      "cell_type": "code",
      "metadata": {
        "id": "7cep1Cf9NGhZ"
      },
      "source": [
        "MAX_VOCAB_SIZE = 25_000\n",
        "\n",
        "TEXT.build_vocab(train_data, \n",
        "                 max_size = MAX_VOCAB_SIZE, \n",
        "                 vectors = \"glove.6B.100d\", \n",
        "                 unk_init = torch.Tensor.normal_)\n",
        "\n",
        "LABEL.build_vocab(train_data)"
      ],
      "execution_count": 6,
      "outputs": []
    },
    {
      "cell_type": "markdown",
      "metadata": {
        "id": "k1wCO9ddNGhg"
      },
      "source": [
        "As before, we create the iterators, placing the tensors on the GPU if one is available.\n",
        "\n",
        "Another thing for packed padded sequences all of the tensors within a batch need to be sorted by their lengths. This is handled in the iterator by setting `sort_within_batch = True`."
      ]
    },
    {
      "cell_type": "code",
      "metadata": {
        "id": "aUQZguIQNGhg"
      },
      "source": [
        "BATCH_SIZE = 64\n",
        "\n",
        "device = torch.device('cuda' if torch.cuda.is_available() else 'cpu')\n",
        "\n",
        "train_iterator, valid_iterator, test_iterator = data.BucketIterator.splits(\n",
        "    (train_data, valid_data, test_data), \n",
        "    batch_size = BATCH_SIZE,\n",
        "    sort_within_batch = True,\n",
        "    device = device)"
      ],
      "execution_count": 7,
      "outputs": []
    },
    {
      "cell_type": "markdown",
      "metadata": {
        "id": "y-JCl3AANGhj"
      },
      "source": [
        "## Build the Model\n",
        "\n",
        "The model features the most drastic changes.\n",
        "\n",
        "### Different RNN Architecture\n",
        "\n",
        "We'll be using a different RNN architecture called a Long Short-Term Memory (LSTM). Why is an LSTM better than a standard RNN? Standard RNNs suffer from the [vanishing gradient problem](https://en.wikipedia.org/wiki/Vanishing_gradient_problem). LSTMs overcome this by having an extra recurrent state called a _cell_, $c$ - which can be thought of as the \"memory\" of the LSTM - and the use use multiple _gates_ which control the flow of information into and out of the memory. For more information, go [here](https://colah.github.io/posts/2015-08-Understanding-LSTMs/). We can simply think of the LSTM as a function of $x_t$, $h_t$ and $c_t$, instead of just $x_t$ and $h_t$.\n",
        "\n",
        "$$(h_t, c_t) = \\text{LSTM}(x_t, h_t, c_t)$$\n",
        "\n",
        "Thus, the model using an LSTM looks something like (with the embedding layers omitted):\n",
        "\n",
        "![](https://github.com/bentrevett/pytorch-sentiment-analysis/blob/master/assets/sentiment2.png?raw=1)\n",
        "\n",
        "The initial cell state, $c_0$, like the initial hidden state is initialized to a tensor of all zeros. The sentiment prediction is still, however, only made using the final hidden state, not the final cell state, i.e. $\\hat{y}=f(h_T)$.\n",
        "\n",
        "### Bidirectional RNN\n",
        "\n",
        "The concept behind a bidirectional RNN is simple. As well as having an RNN processing the words in the sentence from the first to the last (a forward RNN), we have a second RNN processing the words in the sentence from the **last to the first** (a backward RNN). At time step $t$, the forward RNN is processing word $x_t$, and the backward RNN is processing word $x_{T-t+1}$. \n",
        "\n",
        "In PyTorch, the hidden state (and cell state) tensors returned by the forward and backward RNNs are stacked on top of each other in a single tensor. \n",
        "\n",
        "We make our sentiment prediction using a concatenation of the last hidden state from the forward RNN (obtained from final word of the sentence), $h_T^\\rightarrow$, and the last hidden state from the backward RNN (obtained from the first word of the sentence), $h_T^\\leftarrow$, i.e. $\\hat{y}=f(h_T^\\rightarrow, h_T^\\leftarrow)$   \n",
        "\n",
        "The image below shows a bi-directional RNN, with the forward RNN in orange, the backward RNN in green and the linear layer in silver.  \n",
        "\n",
        "![](https://github.com/bentrevett/pytorch-sentiment-analysis/blob/master/assets/sentiment3.png?raw=1)\n",
        "\n",
        "### Multi-layer RNN\n",
        "\n",
        "Multi-layer RNNs (also called *deep RNNs*) are another simple concept. The idea is that we add additional RNNs on top of the initial standard RNN, where each RNN added is another *layer*. The hidden state output by the first (bottom) RNN at time-step $t$ will be the input to the RNN above it at time step $t$. The prediction is then made from the final hidden state of the final (highest) layer.\n",
        "\n",
        "The image below shows a multi-layer unidirectional RNN, where the layer number is given as a superscript. Also note that each layer needs their own initial hidden state, $h_0^L$.\n",
        "\n",
        "![](https://github.com/bentrevett/pytorch-sentiment-analysis/blob/master/assets/sentiment4.png?raw=1)\n",
        "\n",
        "### Regularization\n",
        "\n",
        "Although we've added improvements to our model, each one adds additional parameters. Without going into overfitting into too much detail, the more parameters you have in in your model, the higher the probability that your model will overfit (memorize the training data, causing  a low training error but high validation/testing error, i.e. poor generalization to new, unseen examples). To combat this, we use regularization. More specifically, we use a method of regularization called *dropout*. Dropout works by randomly *dropping out* (setting to 0) neurons in a layer during a forward pass. The probability that each neuron is dropped out is set by a hyperparameter and each neuron with dropout applied is considered indepenently. One theory about why dropout works is that a model with parameters dropped out can be seen as a \"weaker\" (less parameters) model. The predictions from all these \"weaker\" models (one for each forward pass) get averaged together withinin the parameters of the model. Thus, your one model can be thought of as an ensemble of weaker models, none of which are over-parameterized and thus should not overfit.\n",
        "\n",
        "### Implementation Details\n",
        "\n",
        "Another addition to this model is that we are not going to learn the embedding for the `<pad>` token. This is because we want to explitictly tell our model that padding tokens are irrelevant to determining the sentiment of a sentence. This means the embedding for the pad token will remain at what it is initialized to (we initialize it to all zeros later). We do this by passing the index of our pad token as the `padding_idx` argument to the `nn.Embedding` layer.\n",
        "\n",
        "To use an LSTM instead of the standard RNN, we use `nn.LSTM` instead of `nn.RNN`. Also, note that the LSTM returns the `output` and a tuple of the final `hidden` state and the final `cell` state, whereas the standard RNN only returned the `output` and final `hidden` state. \n",
        "\n",
        "As the final hidden state of our LSTM has both a forward and a backward component, which will be concatenated together, the size of the input to the `nn.Linear` layer is twice that of the hidden dimension size.\n",
        "\n",
        "Implementing bidirectionality and adding additional layers are done by passing values for the `num_layers` and `bidirectional` arguments for the RNN/LSTM. \n",
        "\n",
        "Dropout is implemented by initializing an `nn.Dropout` layer (the argument is the probability of dropping out each neuron) and using it within the `forward` method after each layer we want to apply dropout to. **Note**: never use dropout on the input or output layers (`text` or `fc` in this case), you only ever want to use dropout on intermediate layers. The LSTM has a `dropout` argument which adds dropout on the connections between hidden states in one layer to hidden states in the next layer. \n",
        "\n",
        "As we are passing the lengths of our sentences to be able to use packed padded sequences, we have to add a second argument, `text_lengths`, to `forward`. \n",
        "\n",
        "Before we pass our embeddings to the RNN, we need to pack them, which we do with `nn.utils.rnn.packed_padded_sequence`. This will cause our RNN to only process the non-padded elements of our sequence. The RNN will then return `packed_output` (a packed sequence) as well as the `hidden` and `cell` states (both of which are tensors). Without packed padded sequences, `hidden` and `cell` are tensors from the last element in the sequence, which will most probably be a pad token, however when using packed padded sequences they are both from the last non-padded element in the sequence. \n",
        "\n",
        "We then unpack the output sequence, with `nn.utils.rnn.pad_packed_sequence`, to transform it from a packed sequence to a tensor. The elements of `output` from padding tokens will be zero tensors (tensors where every element is zero). Usually, we only have to unpack output if we are going to use it later on in the model. Although we aren't in this case, we still unpack the sequence just to show how it is done.\n",
        "\n",
        "The final hidden state, `hidden`, has a shape of _**[num layers * num directions, batch size, hid dim]**_. These are ordered: **[forward_layer_0, backward_layer_0, forward_layer_1, backward_layer 1, ..., forward_layer_n, backward_layer n]**. As we want the final (top) layer forward and backward hidden states, we get the top two hidden layers from the first dimension, `hidden[-2,:,:]` and `hidden[-1,:,:]`, and concatenate them together before passing them to the linear layer (after applying dropout). "
      ]
    },
    {
      "cell_type": "code",
      "metadata": {
        "id": "KnbO4FfgNGhk"
      },
      "source": [
        "import torch.nn as nn\n",
        "\n",
        "class RNN(nn.Module):\n",
        "    def __init__(self, vocab_size, embedding_dim, hidden_dim, output_dim, n_layers, \n",
        "                 bidirectional, dropout, pad_idx):\n",
        "        \n",
        "        super().__init__()\n",
        "        \n",
        "        self.embedding = nn.Embedding(vocab_size, embedding_dim, padding_idx = pad_idx)\n",
        "        \n",
        "        self.rnn = nn.LSTM(embedding_dim, \n",
        "                           hidden_dim, \n",
        "                           num_layers=n_layers, \n",
        "                           bidirectional=bidirectional, \n",
        "                           dropout=dropout)\n",
        "        \n",
        "        self.fc = nn.Linear(hidden_dim * 2, output_dim)\n",
        "        \n",
        "        self.dropout = nn.Dropout(dropout)\n",
        "        \n",
        "    def forward(self, text, text_lengths):\n",
        "        \n",
        "        #text = [sent len, batch size]\n",
        "        \n",
        "        embedded = self.dropout(self.embedding(text))\n",
        "        \n",
        "        #embedded = [sent len, batch size, emb dim]\n",
        "        \n",
        "        #pack sequence\n",
        "        packed_embedded = nn.utils.rnn.pack_padded_sequence(embedded, text_lengths)\n",
        "        \n",
        "        packed_output, (hidden, cell) = self.rnn(packed_embedded)\n",
        "        \n",
        "        #unpack sequence\n",
        "        output, output_lengths = nn.utils.rnn.pad_packed_sequence(packed_output)\n",
        "\n",
        "        #output = [sent len, batch size, hid dim * num directions]\n",
        "        #output over padding tokens are zero tensors\n",
        "        \n",
        "        #hidden = [num layers * num directions, batch size, hid dim]\n",
        "        #cell = [num layers * num directions, batch size, hid dim]\n",
        "        \n",
        "        #concat the final forward (hidden[-2,:,:]) and backward (hidden[-1,:,:]) hidden layers\n",
        "        #and apply dropout\n",
        "        \n",
        "        hidden = self.dropout(torch.cat((hidden[-2,:,:], hidden[-1,:,:]), dim = 1))\n",
        "                \n",
        "        #hidden = [batch size, hid dim * num directions]\n",
        "            \n",
        "        return self.fc(hidden)"
      ],
      "execution_count": 8,
      "outputs": []
    },
    {
      "cell_type": "markdown",
      "metadata": {
        "id": "on-VY_lfNGhn"
      },
      "source": [
        "Like before, we'll create an instance of our RNN class, with the new parameters and arguments for the number of layers, bidirectionality and dropout probability.\n",
        "\n",
        "To ensure the pre-trained vectors can be loaded into the model, the `EMBEDDING_DIM` must be equal to that of the pre-trained GloVe vectors loaded earlier.\n",
        "\n",
        "We get our pad token index from the vocabulary, getting the actual string representing the pad token from the field's `pad_token` attribute, which is `<pad>` by default."
      ]
    },
    {
      "cell_type": "code",
      "metadata": {
        "id": "LtidBotyNGho"
      },
      "source": [
        "INPUT_DIM = len(TEXT.vocab)\n",
        "EMBEDDING_DIM = 100\n",
        "HIDDEN_DIM = 256\n",
        "OUTPUT_DIM = 1\n",
        "N_LAYERS = 2\n",
        "BIDIRECTIONAL = True\n",
        "DROPOUT = 0.5\n",
        "PAD_IDX = TEXT.vocab.stoi[TEXT.pad_token]\n",
        "\n",
        "model = RNN(INPUT_DIM, \n",
        "            EMBEDDING_DIM, \n",
        "            HIDDEN_DIM, \n",
        "            OUTPUT_DIM, \n",
        "            N_LAYERS, \n",
        "            BIDIRECTIONAL, \n",
        "            DROPOUT, \n",
        "            PAD_IDX)"
      ],
      "execution_count": 9,
      "outputs": []
    },
    {
      "cell_type": "code",
      "metadata": {
        "id": "skRJGr7NMmmp",
        "outputId": "a1d1d8b7-7e9e-4283-bb73-2c31970c4e96",
        "colab": {
          "base_uri": "https://localhost:8080/",
          "height": 118
        }
      },
      "source": [
        "\n",
        "model"
      ],
      "execution_count": 34,
      "outputs": [
        {
          "output_type": "execute_result",
          "data": {
            "text/plain": [
              "RNN(\n",
              "  (embedding): Embedding(25002, 100, padding_idx=1)\n",
              "  (rnn): LSTM(100, 256, num_layers=2, dropout=0.5, bidirectional=True)\n",
              "  (fc): Linear(in_features=512, out_features=1, bias=True)\n",
              "  (dropout): Dropout(p=0.5, inplace=False)\n",
              ")"
            ]
          },
          "metadata": {
            "tags": []
          },
          "execution_count": 34
        }
      ]
    },
    {
      "cell_type": "markdown",
      "metadata": {
        "id": "Uk9cmDIANGhs"
      },
      "source": [
        "We'll print out the number of parameters in our model. \n",
        "\n",
        "Notice how we have almost twice as many parameters as before!"
      ]
    },
    {
      "cell_type": "code",
      "metadata": {
        "id": "6YpYoXpeNGht",
        "outputId": "a174544c-78e4-4fdd-f34f-ad335c40669a",
        "colab": {
          "base_uri": "https://localhost:8080/",
          "height": 34
        }
      },
      "source": [
        "def count_parameters(model):\n",
        "    return sum(p.numel() for p in model.parameters() if p.requires_grad)\n",
        "\n",
        "print(f'The model has {count_parameters(model):,} trainable parameters')"
      ],
      "execution_count": 10,
      "outputs": [
        {
          "output_type": "stream",
          "text": [
            "The model has 4,810,857 trainable parameters\n"
          ],
          "name": "stdout"
        }
      ]
    },
    {
      "cell_type": "markdown",
      "metadata": {
        "id": "bVOt1qD5NGhx"
      },
      "source": [
        "The final addition is copying the pre-trained word embeddings we loaded earlier into the `embedding` layer of our model.\n",
        "\n",
        "We retrieve the embeddings from the field's vocab, and check they're the correct size, _**[vocab size, embedding dim]**_ "
      ]
    },
    {
      "cell_type": "code",
      "metadata": {
        "id": "ky2fBmosNGhy",
        "outputId": "14d40a2e-67f5-4f5c-eb21-51bd4e5ee157",
        "colab": {
          "base_uri": "https://localhost:8080/",
          "height": 34
        }
      },
      "source": [
        "pretrained_embeddings = TEXT.vocab.vectors\n",
        "\n",
        "print(pretrained_embeddings.shape)"
      ],
      "execution_count": 11,
      "outputs": [
        {
          "output_type": "stream",
          "text": [
            "torch.Size([25002, 100])\n"
          ],
          "name": "stdout"
        }
      ]
    },
    {
      "cell_type": "code",
      "metadata": {
        "id": "w-AqtfIkM_Kh",
        "outputId": "1167a53d-c197-4a7f-d358-50b9758d1aef",
        "colab": {
          "base_uri": "https://localhost:8080/",
          "height": 34
        }
      },
      "source": [
        "pretrained_embeddings[0].shape"
      ],
      "execution_count": 21,
      "outputs": [
        {
          "output_type": "execute_result",
          "data": {
            "text/plain": [
              "torch.Size([100])"
            ]
          },
          "metadata": {
            "tags": []
          },
          "execution_count": 21
        }
      ]
    },
    {
      "cell_type": "markdown",
      "metadata": {
        "id": "Zmtw-WxBNGh1"
      },
      "source": [
        "We then replace the initial weights of the `embedding` layer with the pre-trained embeddings.\n",
        "\n",
        "**Note**: this should always be done on the `weight.data` and not the `weight`!"
      ]
    },
    {
      "cell_type": "code",
      "metadata": {
        "id": "-dh_DOvkNGh1",
        "outputId": "19f3eab9-64e8-428f-ec89-2ff146d53ab1",
        "colab": {
          "base_uri": "https://localhost:8080/",
          "height": 134
        }
      },
      "source": [
        "model.embedding.weight.data.copy_(pretrained_embeddings)"
      ],
      "execution_count": 12,
      "outputs": [
        {
          "output_type": "execute_result",
          "data": {
            "text/plain": [
              "tensor([[-0.1117, -0.4966,  0.1631,  ...,  1.2647, -0.2753, -0.1325],\n",
              "        [-0.8555, -0.7208,  1.3755,  ...,  0.0825, -1.1314,  0.3997],\n",
              "        [-0.0382, -0.2449,  0.7281,  ..., -0.1459,  0.8278,  0.2706],\n",
              "        ...,\n",
              "        [-0.4721,  0.1999,  0.3466,  ..., -0.4861,  1.2220, -0.0368],\n",
              "        [-0.3896, -0.0554,  0.4922,  ..., -0.0182, -0.8245,  0.0696],\n",
              "        [ 0.1829,  0.1536, -0.1446,  ..., -0.1389,  0.3579,  0.8286]])"
            ]
          },
          "metadata": {
            "tags": []
          },
          "execution_count": 12
        }
      ]
    },
    {
      "cell_type": "markdown",
      "metadata": {
        "id": "6J-3l7lNNGh4"
      },
      "source": [
        "As our `<unk>` and `<pad>` token aren't in the pre-trained vocabulary they have been initialized using `unk_init` (an $\\mathcal{N}(0,1)$ distribution) when building our vocab. It is preferable to initialize them both to all zeros to explicitly tell our model that, initially, they are irrelevant for determining sentiment. \n",
        "\n",
        "We do this by manually setting their row in the embedding weights matrix to zeros. We get their row by finding the index of the tokens, which we have already done for the padding index.\n",
        "\n",
        "**Note**: like initializing the embeddings, this should be done on the `weight.data` and not the `weight`!"
      ]
    },
    {
      "cell_type": "code",
      "metadata": {
        "id": "Rym2MF1YNGh5",
        "outputId": "5993ae40-dc1f-41d2-9893-252cbb0feafd",
        "colab": {
          "base_uri": "https://localhost:8080/",
          "height": 151
        }
      },
      "source": [
        "UNK_IDX = TEXT.vocab.stoi[TEXT.unk_token]\n",
        "\n",
        "model.embedding.weight.data[UNK_IDX] = torch.zeros(EMBEDDING_DIM)\n",
        "model.embedding.weight.data[PAD_IDX] = torch.zeros(EMBEDDING_DIM)\n",
        "\n",
        "print(model.embedding.weight.data)"
      ],
      "execution_count": 20,
      "outputs": [
        {
          "output_type": "stream",
          "text": [
            "tensor([[ 0.0000,  0.0000,  0.0000,  ...,  0.0000,  0.0000,  0.0000],\n",
            "        [ 0.0000,  0.0000,  0.0000,  ...,  0.0000,  0.0000,  0.0000],\n",
            "        [-0.0382, -0.2449,  0.7281,  ..., -0.1459,  0.8278,  0.2706],\n",
            "        ...,\n",
            "        [-0.4721,  0.1999,  0.3466,  ..., -0.4861,  1.2220, -0.0368],\n",
            "        [-0.3896, -0.0554,  0.4922,  ..., -0.0182, -0.8245,  0.0696],\n",
            "        [ 0.1829,  0.1536, -0.1446,  ..., -0.1389,  0.3579,  0.8286]],\n",
            "       device='cuda:0')\n"
          ],
          "name": "stdout"
        }
      ]
    },
    {
      "cell_type": "markdown",
      "metadata": {
        "id": "-ldQ7vQeNGh9"
      },
      "source": [
        "We can now see the first two rows of the embedding weights matrix have been set to zeros. As we passed the index of the pad token to the `padding_idx` of the embedding layer it will remain zeros throughout training, however the `<unk>` token embedding will be learned."
      ]
    },
    {
      "cell_type": "markdown",
      "metadata": {
        "id": "WC7q-cKgNGh-"
      },
      "source": [
        "## Train the Model"
      ]
    },
    {
      "cell_type": "markdown",
      "metadata": {
        "id": "fT58C6MqNGh-"
      },
      "source": [
        "Now to training the model.\n",
        "\n",
        "The only change we'll make here is changing the optimizer from `SGD` to `Adam`. SGD updates all parameters with the same learning rate and choosing this learning rate can be tricky. `Adam` adapts the learning rate for each parameter, giving parameters that are updated more frequently lower learning rates and parameters that are updated infrequently higher learning rates. More information about `Adam` (and other optimizers) can be found [here](http://ruder.io/optimizing-gradient-descent/index.html).\n",
        "\n",
        "To change `SGD` to `Adam`, we simply change `optim.SGD` to `optim.Adam`, also note how we do not have to provide an initial learning rate for Adam as PyTorch specifies a sensibile default initial learning rate."
      ]
    },
    {
      "cell_type": "code",
      "metadata": {
        "id": "muPRq7xRNGh_"
      },
      "source": [
        "import torch.optim as optim\n",
        "\n",
        "optimizer = optim.Adam(model.parameters())"
      ],
      "execution_count": 14,
      "outputs": []
    },
    {
      "cell_type": "markdown",
      "metadata": {
        "id": "WSLY4zggNGiC"
      },
      "source": [
        "The rest of the steps for training the model are unchanged.\n",
        "\n",
        "We define the criterion and place the model and criterion on the GPU (if available)..."
      ]
    },
    {
      "cell_type": "code",
      "metadata": {
        "id": "_9d1KCyiNGiD"
      },
      "source": [
        "criterion = nn.BCEWithLogitsLoss()\n",
        "\n",
        "model = model.to(device)\n",
        "criterion = criterion.to(device)\n"
      ],
      "execution_count": 21,
      "outputs": []
    },
    {
      "cell_type": "markdown",
      "metadata": {
        "id": "YrXfp5tlNGiF"
      },
      "source": [
        "We implement the function to calculate accuracy..."
      ]
    },
    {
      "cell_type": "code",
      "metadata": {
        "id": "6oSNaS2oNGiG"
      },
      "source": [
        "def binary_accuracy(preds, y):\n",
        "    \"\"\"\n",
        "    Returns accuracy per batch, i.e. if you get 8/10 right, this returns 0.8, NOT 8\n",
        "    \"\"\"\n",
        "\n",
        "    #round predictions to the closest integer\n",
        "    rounded_preds = torch.round(torch.sigmoid(preds))\n",
        "    correct = (rounded_preds == y).float() #convert into float for division \n",
        "    acc = correct.sum() / len(correct)\n",
        "    return acc"
      ],
      "execution_count": 22,
      "outputs": []
    },
    {
      "cell_type": "markdown",
      "metadata": {
        "id": "eiHKuWH7NGiI"
      },
      "source": [
        "We define a function for training our model. \n",
        "\n",
        "As we have set `include_lengths = True`, our `batch.text` is now a tuple with the first element being the numericalized tensor and the second element being the actual lengths of each sequence. We separate these into their own variables, `text` and `text_lengths`, before passing them to the model.\n",
        "\n",
        "**Note**: as we are now using dropout, we must remember to use `model.train()` to ensure the dropout is \"turned on\" while training."
      ]
    },
    {
      "cell_type": "code",
      "metadata": {
        "id": "I6yE65JrNGiJ"
      },
      "source": [
        "def train(model, iterator, optimizer, criterion):\n",
        "    \n",
        "    epoch_loss = 0\n",
        "    epoch_acc = 0\n",
        "    \n",
        "    model.train()\n",
        "    \n",
        "    for batch in iterator:\n",
        "        \n",
        "        optimizer.zero_grad()\n",
        "        \n",
        "        text, text_lengths = batch.text\n",
        "        \n",
        "        predictions = model(text, text_lengths).squeeze(1)\n",
        "        \n",
        "        loss = criterion(predictions, batch.label)\n",
        "        \n",
        "        acc = binary_accuracy(predictions, batch.label)\n",
        "        \n",
        "        loss.backward()\n",
        "        \n",
        "        optimizer.step()\n",
        "        \n",
        "        epoch_loss += loss.item()\n",
        "        epoch_acc += acc.item()\n",
        "        \n",
        "    return epoch_loss / len(iterator), epoch_acc / len(iterator)"
      ],
      "execution_count": 23,
      "outputs": []
    },
    {
      "cell_type": "markdown",
      "metadata": {
        "id": "yYSugLiVNGiM"
      },
      "source": [
        "Then we define a function for testing our model, again remembering to separate `batch.text`.\n",
        "\n",
        "**Note**: as we are now using dropout, we must remember to use `model.eval()` to ensure the dropout is \"turned off\" while evaluating."
      ]
    },
    {
      "cell_type": "code",
      "metadata": {
        "id": "kYRJBqNwNGiN"
      },
      "source": [
        "def evaluate(model, iterator, criterion):\n",
        "    \n",
        "    epoch_loss = 0\n",
        "    epoch_acc = 0\n",
        "    \n",
        "    model.eval()\n",
        "    \n",
        "    with torch.no_grad():\n",
        "    \n",
        "        for batch in iterator:\n",
        "\n",
        "            text, text_lengths = batch.text\n",
        "            \n",
        "            predictions = model(text, text_lengths).squeeze(1)\n",
        "            \n",
        "            loss = criterion(predictions, batch.label)\n",
        "            \n",
        "            acc = binary_accuracy(predictions, batch.label)\n",
        "\n",
        "            epoch_loss += loss.item()\n",
        "            epoch_acc += acc.item()\n",
        "        \n",
        "    return epoch_loss / len(iterator), epoch_acc / len(iterator)"
      ],
      "execution_count": 24,
      "outputs": []
    },
    {
      "cell_type": "markdown",
      "metadata": {
        "id": "QJiv8yY-NGiQ"
      },
      "source": [
        "And also create a nice function to tell us how long our epochs are taking."
      ]
    },
    {
      "cell_type": "code",
      "metadata": {
        "id": "VLUsX1tpNGiQ"
      },
      "source": [
        "import time\n",
        "\n",
        "def epoch_time(start_time, end_time):\n",
        "    elapsed_time = end_time - start_time\n",
        "    elapsed_mins = int(elapsed_time / 60)\n",
        "    elapsed_secs = int(elapsed_time - (elapsed_mins * 60))\n",
        "    return elapsed_mins, elapsed_secs"
      ],
      "execution_count": 25,
      "outputs": []
    },
    {
      "cell_type": "markdown",
      "metadata": {
        "id": "r3ruPtPfNGiT"
      },
      "source": [
        "Finally, we train our model..."
      ]
    },
    {
      "cell_type": "code",
      "metadata": {
        "id": "Gj_EzvwnTAFs",
        "outputId": "01d7a867-37b5-4bcd-91b5-95767308480a",
        "colab": {
          "base_uri": "https://localhost:8080/",
          "height": 1000
        }
      },
      "source": [
        "N_EPOCHS = 100\n",
        "\n",
        "best_valid_loss = float('inf')\n",
        "\n",
        "for epoch in range(N_EPOCHS):\n",
        "\n",
        "    start_time = time.time()\n",
        "    \n",
        "    train_loss, train_acc = train(model, train_iterator, optimizer, criterion)\n",
        "    valid_loss, valid_acc = evaluate(model, valid_iterator, criterion)\n",
        "    \n",
        "    end_time = time.time()\n",
        "\n",
        "    epoch_mins, epoch_secs = epoch_time(start_time, end_time)\n",
        "    \n",
        "    if valid_loss < best_valid_loss:\n",
        "        best_valid_loss = valid_loss\n",
        "        torch.save(model.state_dict(), 'tut2-model.pt')\n",
        "    \n",
        "    print(f'Epoch: {epoch+1:02} | Epoch Time: {epoch_mins}m {epoch_secs}s')\n",
        "    print(f'\\tTrain Loss: {train_loss:.3f} | Train Acc: {train_acc*100:.2f}%')\n",
        "    print(f'\\t Val. Loss: {valid_loss:.3f} |  Val. Acc: {valid_acc*100:.2f}%')"
      ],
      "execution_count": null,
      "outputs": [
        {
          "output_type": "stream",
          "text": [
            "Epoch: 01 | Epoch Time: 0m 41s\n",
            "\tTrain Loss: 0.191 | Train Acc: 92.89%\n",
            "\t Val. Loss: 0.283 |  Val. Acc: 90.09%\n",
            "Epoch: 02 | Epoch Time: 0m 41s\n",
            "\tTrain Loss: 0.154 | Train Acc: 94.47%\n",
            "\t Val. Loss: 0.305 |  Val. Acc: 89.55%\n",
            "Epoch: 03 | Epoch Time: 0m 41s\n",
            "\tTrain Loss: 0.122 | Train Acc: 95.60%\n",
            "\t Val. Loss: 0.297 |  Val. Acc: 90.47%\n",
            "Epoch: 04 | Epoch Time: 0m 41s\n",
            "\tTrain Loss: 0.106 | Train Acc: 96.30%\n",
            "\t Val. Loss: 0.301 |  Val. Acc: 90.38%\n",
            "Epoch: 05 | Epoch Time: 0m 41s\n",
            "\tTrain Loss: 0.093 | Train Acc: 96.87%\n",
            "\t Val. Loss: 0.301 |  Val. Acc: 90.30%\n",
            "Epoch: 06 | Epoch Time: 0m 41s\n",
            "\tTrain Loss: 0.079 | Train Acc: 97.31%\n",
            "\t Val. Loss: 0.394 |  Val. Acc: 89.61%\n",
            "Epoch: 07 | Epoch Time: 0m 41s\n",
            "\tTrain Loss: 0.068 | Train Acc: 97.72%\n",
            "\t Val. Loss: 0.383 |  Val. Acc: 90.00%\n",
            "Epoch: 08 | Epoch Time: 0m 41s\n",
            "\tTrain Loss: 0.065 | Train Acc: 97.84%\n",
            "\t Val. Loss: 0.377 |  Val. Acc: 89.81%\n",
            "Epoch: 09 | Epoch Time: 0m 41s\n",
            "\tTrain Loss: 0.060 | Train Acc: 97.97%\n",
            "\t Val. Loss: 0.401 |  Val. Acc: 89.67%\n",
            "Epoch: 10 | Epoch Time: 0m 41s\n",
            "\tTrain Loss: 0.051 | Train Acc: 98.23%\n",
            "\t Val. Loss: 0.391 |  Val. Acc: 90.06%\n",
            "Epoch: 11 | Epoch Time: 0m 41s\n",
            "\tTrain Loss: 0.047 | Train Acc: 98.45%\n",
            "\t Val. Loss: 0.400 |  Val. Acc: 89.59%\n",
            "Epoch: 12 | Epoch Time: 0m 41s\n",
            "\tTrain Loss: 0.044 | Train Acc: 98.55%\n",
            "\t Val. Loss: 0.410 |  Val. Acc: 89.80%\n",
            "Epoch: 13 | Epoch Time: 0m 41s\n",
            "\tTrain Loss: 0.039 | Train Acc: 98.66%\n",
            "\t Val. Loss: 0.457 |  Val. Acc: 89.43%\n",
            "Epoch: 14 | Epoch Time: 0m 41s\n",
            "\tTrain Loss: 0.033 | Train Acc: 98.88%\n",
            "\t Val. Loss: 0.450 |  Val. Acc: 89.51%\n",
            "Epoch: 15 | Epoch Time: 0m 41s\n",
            "\tTrain Loss: 0.033 | Train Acc: 98.94%\n",
            "\t Val. Loss: 0.494 |  Val. Acc: 89.15%\n",
            "Epoch: 16 | Epoch Time: 0m 41s\n",
            "\tTrain Loss: 0.032 | Train Acc: 98.96%\n",
            "\t Val. Loss: 0.450 |  Val. Acc: 89.76%\n",
            "Epoch: 17 | Epoch Time: 0m 41s\n",
            "\tTrain Loss: 0.027 | Train Acc: 99.09%\n",
            "\t Val. Loss: 0.437 |  Val. Acc: 89.65%\n",
            "Epoch: 18 | Epoch Time: 0m 41s\n",
            "\tTrain Loss: 0.028 | Train Acc: 99.16%\n",
            "\t Val. Loss: 0.431 |  Val. Acc: 89.56%\n",
            "Epoch: 19 | Epoch Time: 0m 41s\n",
            "\tTrain Loss: 0.029 | Train Acc: 99.05%\n",
            "\t Val. Loss: 0.515 |  Val. Acc: 88.91%\n",
            "Epoch: 20 | Epoch Time: 0m 41s\n",
            "\tTrain Loss: 0.022 | Train Acc: 99.21%\n",
            "\t Val. Loss: 0.505 |  Val. Acc: 89.19%\n",
            "Epoch: 21 | Epoch Time: 0m 41s\n",
            "\tTrain Loss: 0.024 | Train Acc: 99.08%\n",
            "\t Val. Loss: 0.508 |  Val. Acc: 89.46%\n",
            "Epoch: 22 | Epoch Time: 0m 41s\n",
            "\tTrain Loss: 0.020 | Train Acc: 99.43%\n",
            "\t Val. Loss: 0.573 |  Val. Acc: 89.55%\n",
            "Epoch: 23 | Epoch Time: 0m 41s\n",
            "\tTrain Loss: 0.019 | Train Acc: 99.37%\n",
            "\t Val. Loss: 0.562 |  Val. Acc: 89.55%\n",
            "Epoch: 24 | Epoch Time: 0m 41s\n",
            "\tTrain Loss: 0.014 | Train Acc: 99.56%\n",
            "\t Val. Loss: 0.580 |  Val. Acc: 89.53%\n",
            "Epoch: 25 | Epoch Time: 0m 41s\n",
            "\tTrain Loss: 0.014 | Train Acc: 99.59%\n",
            "\t Val. Loss: 0.613 |  Val. Acc: 89.12%\n",
            "Epoch: 26 | Epoch Time: 0m 41s\n",
            "\tTrain Loss: 0.017 | Train Acc: 99.44%\n",
            "\t Val. Loss: 0.540 |  Val. Acc: 89.22%\n",
            "Epoch: 27 | Epoch Time: 0m 41s\n",
            "\tTrain Loss: 0.019 | Train Acc: 99.31%\n",
            "\t Val. Loss: 0.530 |  Val. Acc: 89.47%\n",
            "Epoch: 28 | Epoch Time: 0m 41s\n",
            "\tTrain Loss: 0.013 | Train Acc: 99.51%\n",
            "\t Val. Loss: 0.639 |  Val. Acc: 89.61%\n",
            "Epoch: 29 | Epoch Time: 0m 41s\n",
            "\tTrain Loss: 0.012 | Train Acc: 99.61%\n",
            "\t Val. Loss: 0.687 |  Val. Acc: 89.40%\n",
            "Epoch: 30 | Epoch Time: 0m 41s\n",
            "\tTrain Loss: 0.010 | Train Acc: 99.66%\n",
            "\t Val. Loss: 0.718 |  Val. Acc: 89.36%\n",
            "Epoch: 31 | Epoch Time: 0m 41s\n",
            "\tTrain Loss: 0.010 | Train Acc: 99.62%\n",
            "\t Val. Loss: 0.584 |  Val. Acc: 89.27%\n",
            "Epoch: 32 | Epoch Time: 0m 41s\n",
            "\tTrain Loss: 0.012 | Train Acc: 99.57%\n",
            "\t Val. Loss: 0.685 |  Val. Acc: 89.23%\n",
            "Epoch: 33 | Epoch Time: 0m 41s\n",
            "\tTrain Loss: 0.010 | Train Acc: 99.73%\n",
            "\t Val. Loss: 0.651 |  Val. Acc: 89.02%\n",
            "Epoch: 34 | Epoch Time: 0m 41s\n",
            "\tTrain Loss: 0.013 | Train Acc: 99.54%\n",
            "\t Val. Loss: 0.661 |  Val. Acc: 89.26%\n",
            "Epoch: 35 | Epoch Time: 0m 41s\n",
            "\tTrain Loss: 0.008 | Train Acc: 99.74%\n",
            "\t Val. Loss: 0.694 |  Val. Acc: 89.30%\n",
            "Epoch: 36 | Epoch Time: 0m 41s\n",
            "\tTrain Loss: 0.009 | Train Acc: 99.73%\n",
            "\t Val. Loss: 0.742 |  Val. Acc: 89.43%\n",
            "Epoch: 37 | Epoch Time: 0m 41s\n",
            "\tTrain Loss: 0.008 | Train Acc: 99.79%\n",
            "\t Val. Loss: 0.679 |  Val. Acc: 88.99%\n",
            "Epoch: 38 | Epoch Time: 0m 41s\n",
            "\tTrain Loss: 0.009 | Train Acc: 99.71%\n",
            "\t Val. Loss: 0.717 |  Val. Acc: 89.10%\n",
            "Epoch: 39 | Epoch Time: 0m 41s\n",
            "\tTrain Loss: 0.009 | Train Acc: 99.69%\n",
            "\t Val. Loss: 0.655 |  Val. Acc: 89.43%\n",
            "Epoch: 40 | Epoch Time: 0m 41s\n",
            "\tTrain Loss: 0.010 | Train Acc: 99.67%\n",
            "\t Val. Loss: 0.700 |  Val. Acc: 89.34%\n",
            "Epoch: 41 | Epoch Time: 0m 41s\n",
            "\tTrain Loss: 0.012 | Train Acc: 99.63%\n",
            "\t Val. Loss: 0.600 |  Val. Acc: 89.30%\n",
            "Epoch: 42 | Epoch Time: 0m 41s\n",
            "\tTrain Loss: 0.007 | Train Acc: 99.79%\n",
            "\t Val. Loss: 0.700 |  Val. Acc: 89.28%\n",
            "Epoch: 43 | Epoch Time: 0m 41s\n",
            "\tTrain Loss: 0.007 | Train Acc: 99.80%\n",
            "\t Val. Loss: 0.702 |  Val. Acc: 89.42%\n",
            "Epoch: 44 | Epoch Time: 0m 41s\n",
            "\tTrain Loss: 0.008 | Train Acc: 99.77%\n",
            "\t Val. Loss: 0.683 |  Val. Acc: 89.26%\n",
            "Epoch: 45 | Epoch Time: 0m 41s\n",
            "\tTrain Loss: 0.006 | Train Acc: 99.81%\n",
            "\t Val. Loss: 0.786 |  Val. Acc: 89.31%\n",
            "Epoch: 46 | Epoch Time: 0m 41s\n",
            "\tTrain Loss: 0.006 | Train Acc: 99.82%\n",
            "\t Val. Loss: 0.773 |  Val. Acc: 89.03%\n",
            "Epoch: 47 | Epoch Time: 0m 41s\n",
            "\tTrain Loss: 0.007 | Train Acc: 99.79%\n",
            "\t Val. Loss: 0.705 |  Val. Acc: 89.35%\n",
            "Epoch: 48 | Epoch Time: 0m 41s\n",
            "\tTrain Loss: 0.005 | Train Acc: 99.84%\n",
            "\t Val. Loss: 0.876 |  Val. Acc: 88.33%\n",
            "Epoch: 49 | Epoch Time: 0m 41s\n",
            "\tTrain Loss: 0.009 | Train Acc: 99.69%\n",
            "\t Val. Loss: 0.725 |  Val. Acc: 89.40%\n",
            "Epoch: 50 | Epoch Time: 0m 41s\n",
            "\tTrain Loss: 0.003 | Train Acc: 99.90%\n",
            "\t Val. Loss: 0.827 |  Val. Acc: 89.38%\n",
            "Epoch: 51 | Epoch Time: 0m 41s\n",
            "\tTrain Loss: 0.007 | Train Acc: 99.81%\n",
            "\t Val. Loss: 0.777 |  Val. Acc: 89.27%\n",
            "Epoch: 52 | Epoch Time: 0m 41s\n",
            "\tTrain Loss: 0.007 | Train Acc: 99.79%\n",
            "\t Val. Loss: 0.827 |  Val. Acc: 88.77%\n",
            "Epoch: 53 | Epoch Time: 0m 41s\n",
            "\tTrain Loss: 0.006 | Train Acc: 99.78%\n",
            "\t Val. Loss: 0.817 |  Val. Acc: 89.03%\n",
            "Epoch: 54 | Epoch Time: 0m 41s\n",
            "\tTrain Loss: 0.004 | Train Acc: 99.85%\n",
            "\t Val. Loss: 0.837 |  Val. Acc: 89.44%\n",
            "Epoch: 55 | Epoch Time: 0m 41s\n",
            "\tTrain Loss: 0.008 | Train Acc: 99.77%\n",
            "\t Val. Loss: 0.806 |  Val. Acc: 89.47%\n",
            "Epoch: 56 | Epoch Time: 0m 41s\n",
            "\tTrain Loss: 0.005 | Train Acc: 99.84%\n",
            "\t Val. Loss: 0.765 |  Val. Acc: 89.63%\n",
            "Epoch: 57 | Epoch Time: 0m 41s\n",
            "\tTrain Loss: 0.004 | Train Acc: 99.87%\n",
            "\t Val. Loss: 0.810 |  Val. Acc: 89.26%\n",
            "Epoch: 58 | Epoch Time: 0m 41s\n",
            "\tTrain Loss: 0.007 | Train Acc: 99.78%\n",
            "\t Val. Loss: 0.734 |  Val. Acc: 89.23%\n",
            "Epoch: 59 | Epoch Time: 0m 41s\n",
            "\tTrain Loss: 0.003 | Train Acc: 99.90%\n",
            "\t Val. Loss: 0.925 |  Val. Acc: 88.44%\n",
            "Epoch: 60 | Epoch Time: 0m 41s\n",
            "\tTrain Loss: 0.004 | Train Acc: 99.86%\n",
            "\t Val. Loss: 0.808 |  Val. Acc: 89.64%\n",
            "Epoch: 61 | Epoch Time: 0m 41s\n",
            "\tTrain Loss: 0.004 | Train Acc: 99.83%\n",
            "\t Val. Loss: 0.760 |  Val. Acc: 89.65%\n",
            "Epoch: 62 | Epoch Time: 0m 41s\n",
            "\tTrain Loss: 0.004 | Train Acc: 99.87%\n",
            "\t Val. Loss: 0.890 |  Val. Acc: 87.60%\n",
            "Epoch: 63 | Epoch Time: 0m 41s\n",
            "\tTrain Loss: 0.004 | Train Acc: 99.85%\n",
            "\t Val. Loss: 0.915 |  Val. Acc: 89.15%\n",
            "Epoch: 64 | Epoch Time: 0m 41s\n",
            "\tTrain Loss: 0.006 | Train Acc: 99.82%\n",
            "\t Val. Loss: 0.922 |  Val. Acc: 88.61%\n",
            "Epoch: 65 | Epoch Time: 0m 41s\n",
            "\tTrain Loss: 0.005 | Train Acc: 99.82%\n",
            "\t Val. Loss: 0.833 |  Val. Acc: 89.35%\n",
            "Epoch: 66 | Epoch Time: 0m 41s\n",
            "\tTrain Loss: 0.004 | Train Acc: 99.87%\n",
            "\t Val. Loss: 0.786 |  Val. Acc: 89.30%\n",
            "Epoch: 67 | Epoch Time: 0m 41s\n",
            "\tTrain Loss: 0.004 | Train Acc: 99.89%\n",
            "\t Val. Loss: 0.787 |  Val. Acc: 89.43%\n",
            "Epoch: 68 | Epoch Time: 0m 41s\n",
            "\tTrain Loss: 0.004 | Train Acc: 99.88%\n",
            "\t Val. Loss: 0.788 |  Val. Acc: 89.28%\n",
            "Epoch: 69 | Epoch Time: 0m 41s\n",
            "\tTrain Loss: 0.003 | Train Acc: 99.89%\n",
            "\t Val. Loss: 0.923 |  Val. Acc: 89.11%\n",
            "Epoch: 70 | Epoch Time: 0m 41s\n",
            "\tTrain Loss: 0.002 | Train Acc: 99.93%\n",
            "\t Val. Loss: 0.906 |  Val. Acc: 89.23%\n",
            "Epoch: 71 | Epoch Time: 0m 41s\n",
            "\tTrain Loss: 0.004 | Train Acc: 99.83%\n",
            "\t Val. Loss: 0.793 |  Val. Acc: 89.35%\n",
            "Epoch: 72 | Epoch Time: 0m 41s\n",
            "\tTrain Loss: 0.006 | Train Acc: 99.81%\n",
            "\t Val. Loss: 0.780 |  Val. Acc: 89.32%\n",
            "Epoch: 73 | Epoch Time: 0m 41s\n",
            "\tTrain Loss: 0.004 | Train Acc: 99.84%\n",
            "\t Val. Loss: 0.827 |  Val. Acc: 88.54%\n",
            "Epoch: 74 | Epoch Time: 0m 41s\n",
            "\tTrain Loss: 0.006 | Train Acc: 99.81%\n",
            "\t Val. Loss: 0.768 |  Val. Acc: 89.08%\n",
            "Epoch: 75 | Epoch Time: 0m 41s\n",
            "\tTrain Loss: 0.002 | Train Acc: 99.93%\n",
            "\t Val. Loss: 0.877 |  Val. Acc: 89.26%\n",
            "Epoch: 76 | Epoch Time: 0m 41s\n",
            "\tTrain Loss: 0.003 | Train Acc: 99.90%\n",
            "\t Val. Loss: 0.992 |  Val. Acc: 89.27%\n",
            "Epoch: 77 | Epoch Time: 0m 41s\n",
            "\tTrain Loss: 0.003 | Train Acc: 99.90%\n",
            "\t Val. Loss: 1.037 |  Val. Acc: 88.75%\n",
            "Epoch: 78 | Epoch Time: 0m 41s\n",
            "\tTrain Loss: 0.004 | Train Acc: 99.89%\n",
            "\t Val. Loss: 0.853 |  Val. Acc: 89.19%\n",
            "Epoch: 79 | Epoch Time: 0m 41s\n",
            "\tTrain Loss: 0.002 | Train Acc: 99.93%\n",
            "\t Val. Loss: 0.938 |  Val. Acc: 88.38%\n",
            "Epoch: 80 | Epoch Time: 0m 41s\n",
            "\tTrain Loss: 0.004 | Train Acc: 99.87%\n",
            "\t Val. Loss: 0.862 |  Val. Acc: 88.83%\n",
            "Epoch: 81 | Epoch Time: 0m 41s\n",
            "\tTrain Loss: 0.003 | Train Acc: 99.90%\n",
            "\t Val. Loss: 0.858 |  Val. Acc: 89.19%\n",
            "Epoch: 82 | Epoch Time: 0m 41s\n",
            "\tTrain Loss: 0.004 | Train Acc: 99.86%\n",
            "\t Val. Loss: 0.760 |  Val. Acc: 88.50%\n",
            "Epoch: 83 | Epoch Time: 0m 41s\n",
            "\tTrain Loss: 0.002 | Train Acc: 99.93%\n",
            "\t Val. Loss: 0.914 |  Val. Acc: 88.98%\n",
            "Epoch: 84 | Epoch Time: 0m 41s\n",
            "\tTrain Loss: 0.003 | Train Acc: 99.90%\n",
            "\t Val. Loss: 0.925 |  Val. Acc: 89.23%\n",
            "Epoch: 85 | Epoch Time: 0m 41s\n",
            "\tTrain Loss: 0.002 | Train Acc: 99.92%\n",
            "\t Val. Loss: 0.945 |  Val. Acc: 89.32%\n",
            "Epoch: 86 | Epoch Time: 0m 41s\n",
            "\tTrain Loss: 0.003 | Train Acc: 99.91%\n",
            "\t Val. Loss: 0.954 |  Val. Acc: 89.28%\n",
            "Epoch: 87 | Epoch Time: 0m 41s\n",
            "\tTrain Loss: 0.002 | Train Acc: 99.95%\n",
            "\t Val. Loss: 0.949 |  Val. Acc: 89.23%\n",
            "Epoch: 88 | Epoch Time: 0m 41s\n",
            "\tTrain Loss: 0.003 | Train Acc: 99.88%\n",
            "\t Val. Loss: 0.898 |  Val. Acc: 88.73%\n",
            "Epoch: 89 | Epoch Time: 0m 41s\n",
            "\tTrain Loss: 0.003 | Train Acc: 99.89%\n",
            "\t Val. Loss: 0.895 |  Val. Acc: 88.91%\n",
            "Epoch: 90 | Epoch Time: 0m 41s\n",
            "\tTrain Loss: 0.002 | Train Acc: 99.95%\n",
            "\t Val. Loss: 0.936 |  Val. Acc: 88.82%\n",
            "Epoch: 91 | Epoch Time: 0m 41s\n",
            "\tTrain Loss: 0.002 | Train Acc: 99.91%\n",
            "\t Val. Loss: 0.951 |  Val. Acc: 89.12%\n",
            "Epoch: 92 | Epoch Time: 0m 41s\n",
            "\tTrain Loss: 0.001 | Train Acc: 99.98%\n",
            "\t Val. Loss: 1.065 |  Val. Acc: 88.61%\n",
            "Epoch: 93 | Epoch Time: 0m 41s\n",
            "\tTrain Loss: 0.002 | Train Acc: 99.94%\n",
            "\t Val. Loss: 1.009 |  Val. Acc: 89.14%\n",
            "Epoch: 94 | Epoch Time: 0m 41s\n",
            "\tTrain Loss: 0.004 | Train Acc: 99.91%\n",
            "\t Val. Loss: 0.946 |  Val. Acc: 89.16%\n",
            "Epoch: 95 | Epoch Time: 0m 41s\n",
            "\tTrain Loss: 0.003 | Train Acc: 99.92%\n",
            "\t Val. Loss: 0.958 |  Val. Acc: 88.62%\n",
            "Epoch: 96 | Epoch Time: 0m 41s\n",
            "\tTrain Loss: 0.002 | Train Acc: 99.92%\n",
            "\t Val. Loss: 1.133 |  Val. Acc: 89.04%\n",
            "Epoch: 97 | Epoch Time: 0m 41s\n",
            "\tTrain Loss: 0.001 | Train Acc: 99.95%\n",
            "\t Val. Loss: 1.062 |  Val. Acc: 89.18%\n",
            "Epoch: 98 | Epoch Time: 0m 41s\n",
            "\tTrain Loss: 0.002 | Train Acc: 99.96%\n",
            "\t Val. Loss: 1.032 |  Val. Acc: 88.90%\n",
            "Epoch: 99 | Epoch Time: 0m 41s\n",
            "\tTrain Loss: 0.003 | Train Acc: 99.90%\n",
            "\t Val. Loss: 1.002 |  Val. Acc: 89.22%\n",
            "Epoch: 100 | Epoch Time: 0m 41s\n",
            "\tTrain Loss: 0.001 | Train Acc: 99.95%\n",
            "\t Val. Loss: 1.178 |  Val. Acc: 88.83%\n"
          ],
          "name": "stdout"
        }
      ]
    },
    {
      "cell_type": "code",
      "metadata": {
        "id": "GJsWgBexNGiU",
        "outputId": "b82acb31-3f22-40ee-b8f9-bf63d92afa2b",
        "colab": {
          "base_uri": "https://localhost:8080/",
          "height": 1000
        }
      },
      "source": [
        "N_EPOCHS = 50\n",
        "\n",
        "best_valid_loss = float('inf')\n",
        "\n",
        "for epoch in range(N_EPOCHS):\n",
        "\n",
        "    start_time = time.time()\n",
        "    \n",
        "    train_loss, train_acc = train(model, train_iterator, optimizer, criterion)\n",
        "    valid_loss, valid_acc = evaluate(model, valid_iterator, criterion)\n",
        "    \n",
        "    end_time = time.time()\n",
        "\n",
        "    epoch_mins, epoch_secs = epoch_time(start_time, end_time)\n",
        "    \n",
        "    if valid_loss < best_valid_loss:\n",
        "        best_valid_loss = valid_loss\n",
        "        torch.save(model.state_dict(), 'tut2-model.pt')\n",
        "    \n",
        "    print(f'Epoch: {epoch+1:02} | Epoch Time: {epoch_mins}m {epoch_secs}s')\n",
        "    print(f'\\tTrain Loss: {train_loss:.3f} | Train Acc: {train_acc*100:.2f}%')\n",
        "    print(f'\\t Val. Loss: {valid_loss:.3f} |  Val. Acc: {valid_acc*100:.2f}%')"
      ],
      "execution_count": 26,
      "outputs": [
        {
          "output_type": "stream",
          "text": [
            "Epoch: 01 | Epoch Time: 0m 38s\n",
            "\tTrain Loss: 0.688 | Train Acc: 54.92%\n",
            "\t Val. Loss: 0.690 |  Val. Acc: 52.94%\n",
            "Epoch: 02 | Epoch Time: 0m 38s\n",
            "\tTrain Loss: 0.673 | Train Acc: 58.20%\n",
            "\t Val. Loss: 0.668 |  Val. Acc: 60.74%\n",
            "Epoch: 03 | Epoch Time: 0m 38s\n",
            "\tTrain Loss: 0.626 | Train Acc: 64.58%\n",
            "\t Val. Loss: 0.587 |  Val. Acc: 69.53%\n",
            "Epoch: 04 | Epoch Time: 0m 38s\n",
            "\tTrain Loss: 0.492 | Train Acc: 76.17%\n",
            "\t Val. Loss: 0.391 |  Val. Acc: 83.32%\n",
            "Epoch: 05 | Epoch Time: 0m 38s\n",
            "\tTrain Loss: 0.501 | Train Acc: 75.99%\n",
            "\t Val. Loss: 0.423 |  Val. Acc: 80.35%\n",
            "Epoch: 06 | Epoch Time: 0m 38s\n",
            "\tTrain Loss: 0.317 | Train Acc: 86.92%\n",
            "\t Val. Loss: 0.311 |  Val. Acc: 88.11%\n",
            "Epoch: 07 | Epoch Time: 0m 38s\n",
            "\tTrain Loss: 0.272 | Train Acc: 88.96%\n",
            "\t Val. Loss: 0.295 |  Val. Acc: 87.89%\n",
            "Epoch: 08 | Epoch Time: 0m 38s\n",
            "\tTrain Loss: 0.234 | Train Acc: 90.83%\n",
            "\t Val. Loss: 0.296 |  Val. Acc: 88.74%\n",
            "Epoch: 09 | Epoch Time: 0m 38s\n",
            "\tTrain Loss: 0.211 | Train Acc: 91.80%\n",
            "\t Val. Loss: 0.290 |  Val. Acc: 88.16%\n",
            "Epoch: 10 | Epoch Time: 0m 38s\n",
            "\tTrain Loss: 0.187 | Train Acc: 93.09%\n",
            "\t Val. Loss: 0.271 |  Val. Acc: 89.51%\n",
            "Epoch: 11 | Epoch Time: 0m 38s\n",
            "\tTrain Loss: 0.173 | Train Acc: 93.77%\n",
            "\t Val. Loss: 0.283 |  Val. Acc: 89.77%\n",
            "Epoch: 12 | Epoch Time: 0m 38s\n",
            "\tTrain Loss: 0.152 | Train Acc: 94.33%\n",
            "\t Val. Loss: 0.378 |  Val. Acc: 86.74%\n",
            "Epoch: 13 | Epoch Time: 0m 38s\n",
            "\tTrain Loss: 0.146 | Train Acc: 94.77%\n",
            "\t Val. Loss: 0.286 |  Val. Acc: 89.65%\n",
            "Epoch: 14 | Epoch Time: 0m 38s\n",
            "\tTrain Loss: 0.125 | Train Acc: 95.56%\n",
            "\t Val. Loss: 0.309 |  Val. Acc: 89.71%\n",
            "Epoch: 15 | Epoch Time: 0m 38s\n",
            "\tTrain Loss: 0.117 | Train Acc: 95.91%\n",
            "\t Val. Loss: 0.301 |  Val. Acc: 89.84%\n",
            "Epoch: 16 | Epoch Time: 0m 38s\n",
            "\tTrain Loss: 0.106 | Train Acc: 96.34%\n",
            "\t Val. Loss: 0.302 |  Val. Acc: 89.89%\n",
            "Epoch: 17 | Epoch Time: 0m 38s\n",
            "\tTrain Loss: 0.093 | Train Acc: 96.76%\n",
            "\t Val. Loss: 0.327 |  Val. Acc: 89.63%\n",
            "Epoch: 18 | Epoch Time: 0m 38s\n",
            "\tTrain Loss: 0.097 | Train Acc: 96.57%\n",
            "\t Val. Loss: 0.325 |  Val. Acc: 89.65%\n",
            "Epoch: 19 | Epoch Time: 0m 38s\n",
            "\tTrain Loss: 0.079 | Train Acc: 97.30%\n",
            "\t Val. Loss: 0.331 |  Val. Acc: 89.55%\n",
            "Epoch: 20 | Epoch Time: 0m 38s\n",
            "\tTrain Loss: 0.068 | Train Acc: 97.68%\n",
            "\t Val. Loss: 0.472 |  Val. Acc: 87.56%\n",
            "Epoch: 21 | Epoch Time: 0m 38s\n",
            "\tTrain Loss: 0.068 | Train Acc: 97.72%\n",
            "\t Val. Loss: 0.371 |  Val. Acc: 89.39%\n",
            "Epoch: 22 | Epoch Time: 0m 38s\n",
            "\tTrain Loss: 0.064 | Train Acc: 97.80%\n",
            "\t Val. Loss: 0.371 |  Val. Acc: 89.27%\n",
            "Epoch: 23 | Epoch Time: 0m 38s\n",
            "\tTrain Loss: 0.057 | Train Acc: 97.99%\n",
            "\t Val. Loss: 0.386 |  Val. Acc: 89.10%\n",
            "Epoch: 24 | Epoch Time: 0m 38s\n",
            "\tTrain Loss: 0.053 | Train Acc: 98.19%\n",
            "\t Val. Loss: 0.423 |  Val. Acc: 89.35%\n",
            "Epoch: 25 | Epoch Time: 0m 38s\n",
            "\tTrain Loss: 0.053 | Train Acc: 98.22%\n",
            "\t Val. Loss: 0.392 |  Val. Acc: 89.71%\n",
            "Epoch: 26 | Epoch Time: 0m 38s\n",
            "\tTrain Loss: 0.044 | Train Acc: 98.57%\n",
            "\t Val. Loss: 0.377 |  Val. Acc: 89.31%\n",
            "Epoch: 27 | Epoch Time: 0m 38s\n",
            "\tTrain Loss: 0.039 | Train Acc: 98.77%\n",
            "\t Val. Loss: 0.447 |  Val. Acc: 89.03%\n",
            "Epoch: 28 | Epoch Time: 0m 38s\n",
            "\tTrain Loss: 0.039 | Train Acc: 98.72%\n",
            "\t Val. Loss: 0.417 |  Val. Acc: 89.36%\n",
            "Epoch: 29 | Epoch Time: 0m 38s\n",
            "\tTrain Loss: 0.034 | Train Acc: 98.84%\n",
            "\t Val. Loss: 0.484 |  Val. Acc: 89.30%\n",
            "Epoch: 30 | Epoch Time: 0m 39s\n",
            "\tTrain Loss: 0.035 | Train Acc: 98.89%\n",
            "\t Val. Loss: 0.460 |  Val. Acc: 89.39%\n",
            "Epoch: 31 | Epoch Time: 0m 39s\n",
            "\tTrain Loss: 0.032 | Train Acc: 98.93%\n",
            "\t Val. Loss: 0.480 |  Val. Acc: 89.47%\n",
            "Epoch: 32 | Epoch Time: 0m 38s\n",
            "\tTrain Loss: 0.029 | Train Acc: 99.08%\n",
            "\t Val. Loss: 0.554 |  Val. Acc: 88.85%\n",
            "Epoch: 33 | Epoch Time: 0m 38s\n",
            "\tTrain Loss: 0.026 | Train Acc: 99.16%\n",
            "\t Val. Loss: 0.508 |  Val. Acc: 87.86%\n",
            "Epoch: 34 | Epoch Time: 0m 38s\n",
            "\tTrain Loss: 0.035 | Train Acc: 98.89%\n",
            "\t Val. Loss: 0.585 |  Val. Acc: 87.36%\n",
            "Epoch: 35 | Epoch Time: 0m 38s\n",
            "\tTrain Loss: 0.024 | Train Acc: 99.14%\n",
            "\t Val. Loss: 0.467 |  Val. Acc: 89.26%\n",
            "Epoch: 36 | Epoch Time: 0m 38s\n",
            "\tTrain Loss: 0.021 | Train Acc: 99.36%\n",
            "\t Val. Loss: 0.585 |  Val. Acc: 88.24%\n",
            "Epoch: 37 | Epoch Time: 0m 38s\n",
            "\tTrain Loss: 0.025 | Train Acc: 99.30%\n",
            "\t Val. Loss: 0.541 |  Val. Acc: 88.82%\n",
            "Epoch: 38 | Epoch Time: 0m 38s\n",
            "\tTrain Loss: 0.021 | Train Acc: 99.25%\n",
            "\t Val. Loss: 0.546 |  Val. Acc: 89.36%\n",
            "Epoch: 39 | Epoch Time: 0m 38s\n",
            "\tTrain Loss: 0.019 | Train Acc: 99.47%\n",
            "\t Val. Loss: 0.539 |  Val. Acc: 89.11%\n",
            "Epoch: 40 | Epoch Time: 0m 38s\n",
            "\tTrain Loss: 0.019 | Train Acc: 99.44%\n",
            "\t Val. Loss: 0.536 |  Val. Acc: 89.08%\n",
            "Epoch: 41 | Epoch Time: 0m 38s\n",
            "\tTrain Loss: 0.017 | Train Acc: 99.57%\n",
            "\t Val. Loss: 0.553 |  Val. Acc: 89.22%\n",
            "Epoch: 42 | Epoch Time: 0m 38s\n",
            "\tTrain Loss: 0.018 | Train Acc: 99.48%\n",
            "\t Val. Loss: 0.512 |  Val. Acc: 89.16%\n",
            "Epoch: 43 | Epoch Time: 0m 39s\n",
            "\tTrain Loss: 0.016 | Train Acc: 99.53%\n",
            "\t Val. Loss: 0.559 |  Val. Acc: 88.97%\n",
            "Epoch: 44 | Epoch Time: 0m 39s\n",
            "\tTrain Loss: 0.022 | Train Acc: 99.28%\n",
            "\t Val. Loss: 0.493 |  Val. Acc: 89.27%\n",
            "Epoch: 45 | Epoch Time: 0m 39s\n",
            "\tTrain Loss: 0.015 | Train Acc: 99.53%\n",
            "\t Val. Loss: 0.586 |  Val. Acc: 88.89%\n",
            "Epoch: 46 | Epoch Time: 0m 39s\n",
            "\tTrain Loss: 0.014 | Train Acc: 99.61%\n",
            "\t Val. Loss: 0.572 |  Val. Acc: 88.00%\n",
            "Epoch: 47 | Epoch Time: 0m 38s\n",
            "\tTrain Loss: 0.012 | Train Acc: 99.63%\n",
            "\t Val. Loss: 0.581 |  Val. Acc: 88.93%\n",
            "Epoch: 48 | Epoch Time: 0m 38s\n",
            "\tTrain Loss: 0.013 | Train Acc: 99.64%\n",
            "\t Val. Loss: 0.629 |  Val. Acc: 88.65%\n",
            "Epoch: 49 | Epoch Time: 0m 39s\n",
            "\tTrain Loss: 0.015 | Train Acc: 99.55%\n",
            "\t Val. Loss: 0.553 |  Val. Acc: 88.91%\n",
            "Epoch: 50 | Epoch Time: 0m 38s\n",
            "\tTrain Loss: 0.014 | Train Acc: 99.54%\n",
            "\t Val. Loss: 0.626 |  Val. Acc: 88.66%\n"
          ],
          "name": "stdout"
        }
      ]
    },
    {
      "cell_type": "code",
      "metadata": {
        "id": "4pu6na04X3QT",
        "outputId": "a7ae3fc1-7063-4b69-e9c1-8e6715684e9c",
        "colab": {
          "base_uri": "https://localhost:8080/",
          "height": 1000
        }
      },
      "source": [
        "N_EPOCHS = 100\n",
        "\n",
        "best_valid_loss = float('inf')\n",
        "\n",
        "for epoch in range(N_EPOCHS):\n",
        "\n",
        "    start_time = time.time()\n",
        "    \n",
        "    train_loss, train_acc = train(model, train_iterator, optimizer, criterion)\n",
        "    valid_loss, valid_acc = evaluate(model, valid_iterator, criterion)\n",
        "    \n",
        "    end_time = time.time()\n",
        "\n",
        "    epoch_mins, epoch_secs = epoch_time(start_time, end_time)\n",
        "    \n",
        "    if valid_loss < best_valid_loss:\n",
        "        best_valid_loss = valid_loss\n",
        "        torch.save(model.state_dict(), 'tut2-model.pt')\n",
        "    \n",
        "    print(f'Epoch: {epoch+1:02} | Epoch Time: {epoch_mins}m {epoch_secs}s')\n",
        "    print(f'\\tTrain Loss: {train_loss:.3f} | Train Acc: {train_acc*100:.2f}%')\n",
        "    print(f'\\t Val. Loss: {valid_loss:.3f} |  Val. Acc: {valid_acc*100:.2f}%')"
      ],
      "execution_count": 27,
      "outputs": [
        {
          "output_type": "stream",
          "text": [
            "Epoch: 01 | Epoch Time: 0m 38s\n",
            "\tTrain Loss: 0.017 | Train Acc: 99.51%\n",
            "\t Val. Loss: 0.534 |  Val. Acc: 88.74%\n",
            "Epoch: 02 | Epoch Time: 0m 39s\n",
            "\tTrain Loss: 0.012 | Train Acc: 99.65%\n",
            "\t Val. Loss: 0.563 |  Val. Acc: 89.11%\n",
            "Epoch: 03 | Epoch Time: 0m 39s\n",
            "\tTrain Loss: 0.010 | Train Acc: 99.72%\n",
            "\t Val. Loss: 0.691 |  Val. Acc: 88.48%\n",
            "Epoch: 04 | Epoch Time: 0m 38s\n",
            "\tTrain Loss: 0.012 | Train Acc: 99.65%\n",
            "\t Val. Loss: 0.675 |  Val. Acc: 88.90%\n",
            "Epoch: 05 | Epoch Time: 0m 38s\n",
            "\tTrain Loss: 0.014 | Train Acc: 99.54%\n",
            "\t Val. Loss: 0.568 |  Val. Acc: 88.93%\n",
            "Epoch: 06 | Epoch Time: 0m 38s\n",
            "\tTrain Loss: 0.011 | Train Acc: 99.66%\n",
            "\t Val. Loss: 0.574 |  Val. Acc: 88.52%\n",
            "Epoch: 07 | Epoch Time: 0m 38s\n",
            "\tTrain Loss: 0.013 | Train Acc: 99.61%\n",
            "\t Val. Loss: 0.648 |  Val. Acc: 88.41%\n",
            "Epoch: 08 | Epoch Time: 0m 38s\n",
            "\tTrain Loss: 0.011 | Train Acc: 99.66%\n",
            "\t Val. Loss: 0.716 |  Val. Acc: 88.86%\n",
            "Epoch: 09 | Epoch Time: 0m 38s\n",
            "\tTrain Loss: 0.008 | Train Acc: 99.78%\n",
            "\t Val. Loss: 0.732 |  Val. Acc: 88.33%\n",
            "Epoch: 10 | Epoch Time: 0m 38s\n",
            "\tTrain Loss: 0.014 | Train Acc: 99.53%\n",
            "\t Val. Loss: 0.681 |  Val. Acc: 88.50%\n",
            "Epoch: 11 | Epoch Time: 0m 38s\n",
            "\tTrain Loss: 0.010 | Train Acc: 99.65%\n",
            "\t Val. Loss: 0.674 |  Val. Acc: 88.44%\n",
            "Epoch: 12 | Epoch Time: 0m 38s\n",
            "\tTrain Loss: 0.009 | Train Acc: 99.72%\n",
            "\t Val. Loss: 0.616 |  Val. Acc: 88.71%\n",
            "Epoch: 13 | Epoch Time: 0m 38s\n",
            "\tTrain Loss: 0.007 | Train Acc: 99.77%\n",
            "\t Val. Loss: 0.690 |  Val. Acc: 88.49%\n",
            "Epoch: 14 | Epoch Time: 0m 38s\n",
            "\tTrain Loss: 0.006 | Train Acc: 99.79%\n",
            "\t Val. Loss: 0.738 |  Val. Acc: 88.86%\n",
            "Epoch: 15 | Epoch Time: 0m 39s\n",
            "\tTrain Loss: 0.006 | Train Acc: 99.82%\n",
            "\t Val. Loss: 0.750 |  Val. Acc: 88.87%\n",
            "Epoch: 16 | Epoch Time: 0m 39s\n",
            "\tTrain Loss: 0.006 | Train Acc: 99.80%\n",
            "\t Val. Loss: 0.681 |  Val. Acc: 88.89%\n",
            "Epoch: 17 | Epoch Time: 0m 39s\n",
            "\tTrain Loss: 0.006 | Train Acc: 99.80%\n",
            "\t Val. Loss: 0.753 |  Val. Acc: 88.79%\n",
            "Epoch: 18 | Epoch Time: 0m 39s\n",
            "\tTrain Loss: 0.009 | Train Acc: 99.74%\n",
            "\t Val. Loss: 0.722 |  Val. Acc: 88.86%\n",
            "Epoch: 19 | Epoch Time: 0m 39s\n",
            "\tTrain Loss: 0.005 | Train Acc: 99.83%\n",
            "\t Val. Loss: 0.721 |  Val. Acc: 88.74%\n",
            "Epoch: 20 | Epoch Time: 0m 39s\n",
            "\tTrain Loss: 0.005 | Train Acc: 99.82%\n",
            "\t Val. Loss: 0.847 |  Val. Acc: 88.37%\n",
            "Epoch: 21 | Epoch Time: 0m 38s\n",
            "\tTrain Loss: 0.006 | Train Acc: 99.83%\n",
            "\t Val. Loss: 0.837 |  Val. Acc: 88.81%\n",
            "Epoch: 22 | Epoch Time: 0m 39s\n",
            "\tTrain Loss: 0.006 | Train Acc: 99.78%\n",
            "\t Val. Loss: 0.788 |  Val. Acc: 88.77%\n",
            "Epoch: 23 | Epoch Time: 0m 38s\n",
            "\tTrain Loss: 0.005 | Train Acc: 99.83%\n",
            "\t Val. Loss: 0.734 |  Val. Acc: 88.77%\n",
            "Epoch: 24 | Epoch Time: 0m 38s\n",
            "\tTrain Loss: 0.006 | Train Acc: 99.83%\n",
            "\t Val. Loss: 0.765 |  Val. Acc: 88.59%\n",
            "Epoch: 25 | Epoch Time: 0m 38s\n",
            "\tTrain Loss: 0.007 | Train Acc: 99.77%\n",
            "\t Val. Loss: 0.743 |  Val. Acc: 88.87%\n",
            "Epoch: 26 | Epoch Time: 0m 38s\n",
            "\tTrain Loss: 0.006 | Train Acc: 99.82%\n",
            "\t Val. Loss: 0.821 |  Val. Acc: 88.36%\n",
            "Epoch: 27 | Epoch Time: 0m 38s\n",
            "\tTrain Loss: 0.005 | Train Acc: 99.83%\n",
            "\t Val. Loss: 0.728 |  Val. Acc: 88.74%\n",
            "Epoch: 28 | Epoch Time: 0m 38s\n",
            "\tTrain Loss: 0.005 | Train Acc: 99.89%\n",
            "\t Val. Loss: 0.751 |  Val. Acc: 88.89%\n",
            "Epoch: 29 | Epoch Time: 0m 38s\n",
            "\tTrain Loss: 0.004 | Train Acc: 99.86%\n",
            "\t Val. Loss: 0.852 |  Val. Acc: 88.50%\n",
            "Epoch: 30 | Epoch Time: 0m 38s\n",
            "\tTrain Loss: 0.004 | Train Acc: 99.85%\n",
            "\t Val. Loss: 0.845 |  Val. Acc: 88.69%\n",
            "Epoch: 31 | Epoch Time: 0m 38s\n",
            "\tTrain Loss: 0.005 | Train Acc: 99.81%\n",
            "\t Val. Loss: 0.778 |  Val. Acc: 88.73%\n",
            "Epoch: 32 | Epoch Time: 0m 38s\n",
            "\tTrain Loss: 0.005 | Train Acc: 99.86%\n",
            "\t Val. Loss: 0.748 |  Val. Acc: 88.61%\n",
            "Epoch: 33 | Epoch Time: 0m 38s\n",
            "\tTrain Loss: 0.004 | Train Acc: 99.86%\n",
            "\t Val. Loss: 0.811 |  Val. Acc: 88.67%\n",
            "Epoch: 34 | Epoch Time: 0m 38s\n",
            "\tTrain Loss: 0.005 | Train Acc: 99.88%\n",
            "\t Val. Loss: 0.880 |  Val. Acc: 88.46%\n",
            "Epoch: 35 | Epoch Time: 0m 39s\n",
            "\tTrain Loss: 0.004 | Train Acc: 99.90%\n",
            "\t Val. Loss: 0.819 |  Val. Acc: 88.49%\n",
            "Epoch: 36 | Epoch Time: 0m 39s\n",
            "\tTrain Loss: 0.008 | Train Acc: 99.73%\n",
            "\t Val. Loss: 0.753 |  Val. Acc: 88.73%\n",
            "Epoch: 37 | Epoch Time: 0m 39s\n",
            "\tTrain Loss: 0.007 | Train Acc: 99.85%\n",
            "\t Val. Loss: 0.770 |  Val. Acc: 88.71%\n",
            "Epoch: 38 | Epoch Time: 0m 38s\n",
            "\tTrain Loss: 0.004 | Train Acc: 99.90%\n",
            "\t Val. Loss: 0.811 |  Val. Acc: 88.38%\n",
            "Epoch: 39 | Epoch Time: 0m 39s\n",
            "\tTrain Loss: 0.004 | Train Acc: 99.87%\n",
            "\t Val. Loss: 0.773 |  Val. Acc: 88.94%\n",
            "Epoch: 40 | Epoch Time: 0m 39s\n",
            "\tTrain Loss: 0.006 | Train Acc: 99.83%\n",
            "\t Val. Loss: 0.788 |  Val. Acc: 88.85%\n",
            "Epoch: 41 | Epoch Time: 0m 39s\n",
            "\tTrain Loss: 0.006 | Train Acc: 99.80%\n",
            "\t Val. Loss: 0.746 |  Val. Acc: 88.89%\n",
            "Epoch: 42 | Epoch Time: 0m 38s\n",
            "\tTrain Loss: 0.004 | Train Acc: 99.86%\n",
            "\t Val. Loss: 0.857 |  Val. Acc: 88.74%\n",
            "Epoch: 43 | Epoch Time: 0m 38s\n",
            "\tTrain Loss: 0.004 | Train Acc: 99.90%\n",
            "\t Val. Loss: 0.760 |  Val. Acc: 88.54%\n",
            "Epoch: 44 | Epoch Time: 0m 38s\n",
            "\tTrain Loss: 0.005 | Train Acc: 99.82%\n",
            "\t Val. Loss: 0.854 |  Val. Acc: 88.46%\n",
            "Epoch: 45 | Epoch Time: 0m 38s\n",
            "\tTrain Loss: 0.004 | Train Acc: 99.90%\n",
            "\t Val. Loss: 0.775 |  Val. Acc: 88.44%\n",
            "Epoch: 46 | Epoch Time: 0m 38s\n",
            "\tTrain Loss: 0.003 | Train Acc: 99.91%\n",
            "\t Val. Loss: 0.817 |  Val. Acc: 88.48%\n",
            "Epoch: 47 | Epoch Time: 0m 38s\n",
            "\tTrain Loss: 0.003 | Train Acc: 99.90%\n",
            "\t Val. Loss: 0.830 |  Val. Acc: 88.67%\n",
            "Epoch: 48 | Epoch Time: 0m 38s\n",
            "\tTrain Loss: 0.004 | Train Acc: 99.90%\n",
            "\t Val. Loss: 0.747 |  Val. Acc: 88.54%\n",
            "Epoch: 49 | Epoch Time: 0m 38s\n",
            "\tTrain Loss: 0.003 | Train Acc: 99.92%\n",
            "\t Val. Loss: 0.829 |  Val. Acc: 88.53%\n",
            "Epoch: 50 | Epoch Time: 0m 39s\n",
            "\tTrain Loss: 0.002 | Train Acc: 99.94%\n",
            "\t Val. Loss: 0.898 |  Val. Acc: 88.54%\n",
            "Epoch: 51 | Epoch Time: 0m 38s\n",
            "\tTrain Loss: 0.003 | Train Acc: 99.93%\n",
            "\t Val. Loss: 0.897 |  Val. Acc: 88.58%\n",
            "Epoch: 52 | Epoch Time: 0m 39s\n",
            "\tTrain Loss: 0.003 | Train Acc: 99.89%\n",
            "\t Val. Loss: 0.983 |  Val. Acc: 88.37%\n",
            "Epoch: 53 | Epoch Time: 0m 38s\n",
            "\tTrain Loss: 0.002 | Train Acc: 99.94%\n",
            "\t Val. Loss: 0.978 |  Val. Acc: 88.53%\n",
            "Epoch: 54 | Epoch Time: 0m 38s\n",
            "\tTrain Loss: 0.008 | Train Acc: 99.77%\n",
            "\t Val. Loss: 0.780 |  Val. Acc: 88.69%\n",
            "Epoch: 55 | Epoch Time: 0m 39s\n",
            "\tTrain Loss: 0.005 | Train Acc: 99.81%\n",
            "\t Val. Loss: 0.814 |  Val. Acc: 88.52%\n",
            "Epoch: 56 | Epoch Time: 0m 39s\n",
            "\tTrain Loss: 0.002 | Train Acc: 99.91%\n",
            "\t Val. Loss: 0.880 |  Val. Acc: 88.40%\n",
            "Epoch: 57 | Epoch Time: 0m 39s\n",
            "\tTrain Loss: 0.002 | Train Acc: 99.91%\n",
            "\t Val. Loss: 0.944 |  Val. Acc: 88.28%\n",
            "Epoch: 58 | Epoch Time: 0m 38s\n",
            "\tTrain Loss: 0.003 | Train Acc: 99.92%\n",
            "\t Val. Loss: 0.858 |  Val. Acc: 88.49%\n",
            "Epoch: 59 | Epoch Time: 0m 38s\n",
            "\tTrain Loss: 0.003 | Train Acc: 99.90%\n",
            "\t Val. Loss: 0.931 |  Val. Acc: 88.50%\n",
            "Epoch: 60 | Epoch Time: 0m 38s\n",
            "\tTrain Loss: 0.002 | Train Acc: 99.95%\n",
            "\t Val. Loss: 0.953 |  Val. Acc: 88.81%\n",
            "Epoch: 61 | Epoch Time: 0m 38s\n",
            "\tTrain Loss: 0.005 | Train Acc: 99.84%\n",
            "\t Val. Loss: 0.802 |  Val. Acc: 88.36%\n",
            "Epoch: 62 | Epoch Time: 0m 38s\n",
            "\tTrain Loss: 0.003 | Train Acc: 99.93%\n",
            "\t Val. Loss: 0.777 |  Val. Acc: 88.45%\n",
            "Epoch: 63 | Epoch Time: 0m 38s\n",
            "\tTrain Loss: 0.003 | Train Acc: 99.90%\n",
            "\t Val. Loss: 0.826 |  Val. Acc: 88.54%\n",
            "Epoch: 64 | Epoch Time: 0m 39s\n",
            "\tTrain Loss: 0.002 | Train Acc: 99.95%\n",
            "\t Val. Loss: 0.941 |  Val. Acc: 88.59%\n",
            "Epoch: 65 | Epoch Time: 0m 39s\n",
            "\tTrain Loss: 0.003 | Train Acc: 99.89%\n",
            "\t Val. Loss: 0.937 |  Val. Acc: 88.29%\n",
            "Epoch: 66 | Epoch Time: 0m 38s\n",
            "\tTrain Loss: 0.005 | Train Acc: 99.87%\n",
            "\t Val. Loss: 0.978 |  Val. Acc: 87.27%\n",
            "Epoch: 67 | Epoch Time: 0m 38s\n",
            "\tTrain Loss: 0.003 | Train Acc: 99.91%\n",
            "\t Val. Loss: 0.878 |  Val. Acc: 88.29%\n",
            "Epoch: 68 | Epoch Time: 0m 38s\n",
            "\tTrain Loss: 0.002 | Train Acc: 99.95%\n",
            "\t Val. Loss: 0.912 |  Val. Acc: 88.30%\n",
            "Epoch: 69 | Epoch Time: 0m 38s\n",
            "\tTrain Loss: 0.004 | Train Acc: 99.90%\n",
            "\t Val. Loss: 0.820 |  Val. Acc: 88.34%\n",
            "Epoch: 70 | Epoch Time: 0m 38s\n",
            "\tTrain Loss: 0.001 | Train Acc: 99.96%\n",
            "\t Val. Loss: 0.902 |  Val. Acc: 88.36%\n",
            "Epoch: 71 | Epoch Time: 0m 38s\n",
            "\tTrain Loss: 0.001 | Train Acc: 99.98%\n",
            "\t Val. Loss: 0.939 |  Val. Acc: 88.29%\n",
            "Epoch: 72 | Epoch Time: 0m 38s\n",
            "\tTrain Loss: 0.002 | Train Acc: 99.97%\n",
            "\t Val. Loss: 0.925 |  Val. Acc: 88.58%\n",
            "Epoch: 73 | Epoch Time: 0m 39s\n",
            "\tTrain Loss: 0.004 | Train Acc: 99.89%\n",
            "\t Val. Loss: 0.918 |  Val. Acc: 88.03%\n",
            "Epoch: 74 | Epoch Time: 0m 38s\n",
            "\tTrain Loss: 0.003 | Train Acc: 99.89%\n",
            "\t Val. Loss: 0.877 |  Val. Acc: 87.96%\n",
            "Epoch: 75 | Epoch Time: 0m 38s\n",
            "\tTrain Loss: 0.003 | Train Acc: 99.90%\n",
            "\t Val. Loss: 0.758 |  Val. Acc: 88.34%\n",
            "Epoch: 76 | Epoch Time: 0m 38s\n",
            "\tTrain Loss: 0.002 | Train Acc: 99.95%\n",
            "\t Val. Loss: 0.888 |  Val. Acc: 88.40%\n",
            "Epoch: 77 | Epoch Time: 0m 38s\n",
            "\tTrain Loss: 0.002 | Train Acc: 99.95%\n",
            "\t Val. Loss: 0.940 |  Val. Acc: 88.52%\n",
            "Epoch: 78 | Epoch Time: 0m 38s\n",
            "\tTrain Loss: 0.001 | Train Acc: 99.94%\n",
            "\t Val. Loss: 1.023 |  Val. Acc: 88.37%\n",
            "Epoch: 79 | Epoch Time: 0m 38s\n",
            "\tTrain Loss: 0.002 | Train Acc: 99.94%\n",
            "\t Val. Loss: 1.011 |  Val. Acc: 88.34%\n",
            "Epoch: 80 | Epoch Time: 0m 38s\n",
            "\tTrain Loss: 0.002 | Train Acc: 99.94%\n",
            "\t Val. Loss: 1.007 |  Val. Acc: 88.29%\n",
            "Epoch: 81 | Epoch Time: 0m 38s\n",
            "\tTrain Loss: 0.002 | Train Acc: 99.93%\n",
            "\t Val. Loss: 0.997 |  Val. Acc: 88.37%\n",
            "Epoch: 82 | Epoch Time: 0m 38s\n",
            "\tTrain Loss: 0.002 | Train Acc: 99.93%\n",
            "\t Val. Loss: 0.981 |  Val. Acc: 88.34%\n",
            "Epoch: 83 | Epoch Time: 0m 38s\n",
            "\tTrain Loss: 0.003 | Train Acc: 99.90%\n",
            "\t Val. Loss: 0.884 |  Val. Acc: 88.29%\n",
            "Epoch: 84 | Epoch Time: 0m 38s\n",
            "\tTrain Loss: 0.001 | Train Acc: 99.95%\n",
            "\t Val. Loss: 1.078 |  Val. Acc: 88.36%\n",
            "Epoch: 85 | Epoch Time: 0m 38s\n",
            "\tTrain Loss: 0.003 | Train Acc: 99.91%\n",
            "\t Val. Loss: 0.832 |  Val. Acc: 88.74%\n",
            "Epoch: 86 | Epoch Time: 0m 38s\n",
            "\tTrain Loss: 0.001 | Train Acc: 99.97%\n",
            "\t Val. Loss: 0.931 |  Val. Acc: 88.45%\n",
            "Epoch: 87 | Epoch Time: 0m 39s\n",
            "\tTrain Loss: 0.001 | Train Acc: 99.96%\n",
            "\t Val. Loss: 0.906 |  Val. Acc: 88.48%\n",
            "Epoch: 88 | Epoch Time: 0m 38s\n",
            "\tTrain Loss: 0.004 | Train Acc: 99.84%\n",
            "\t Val. Loss: 0.893 |  Val. Acc: 88.57%\n",
            "Epoch: 89 | Epoch Time: 0m 38s\n",
            "\tTrain Loss: 0.001 | Train Acc: 99.97%\n",
            "\t Val. Loss: 1.011 |  Val. Acc: 88.44%\n",
            "Epoch: 90 | Epoch Time: 0m 38s\n",
            "\tTrain Loss: 0.002 | Train Acc: 99.93%\n",
            "\t Val. Loss: 0.936 |  Val. Acc: 88.57%\n",
            "Epoch: 91 | Epoch Time: 0m 38s\n",
            "\tTrain Loss: 0.002 | Train Acc: 99.93%\n",
            "\t Val. Loss: 0.972 |  Val. Acc: 88.67%\n",
            "Epoch: 92 | Epoch Time: 0m 38s\n",
            "\tTrain Loss: 0.000 | Train Acc: 99.99%\n",
            "\t Val. Loss: 1.056 |  Val. Acc: 88.50%\n",
            "Epoch: 93 | Epoch Time: 0m 38s\n",
            "\tTrain Loss: 0.001 | Train Acc: 99.98%\n",
            "\t Val. Loss: 1.033 |  Val. Acc: 88.52%\n",
            "Epoch: 94 | Epoch Time: 0m 38s\n",
            "\tTrain Loss: 0.001 | Train Acc: 99.94%\n",
            "\t Val. Loss: 1.047 |  Val. Acc: 88.81%\n",
            "Epoch: 95 | Epoch Time: 0m 38s\n",
            "\tTrain Loss: 0.002 | Train Acc: 99.95%\n",
            "\t Val. Loss: 1.120 |  Val. Acc: 87.97%\n",
            "Epoch: 96 | Epoch Time: 0m 39s\n",
            "\tTrain Loss: 0.001 | Train Acc: 99.98%\n",
            "\t Val. Loss: 1.077 |  Val. Acc: 88.61%\n",
            "Epoch: 97 | Epoch Time: 0m 39s\n",
            "\tTrain Loss: 0.002 | Train Acc: 99.95%\n",
            "\t Val. Loss: 1.093 |  Val. Acc: 88.69%\n",
            "Epoch: 98 | Epoch Time: 0m 39s\n",
            "\tTrain Loss: 0.003 | Train Acc: 99.93%\n",
            "\t Val. Loss: 1.079 |  Val. Acc: 88.20%\n",
            "Epoch: 99 | Epoch Time: 0m 39s\n",
            "\tTrain Loss: 0.003 | Train Acc: 99.90%\n",
            "\t Val. Loss: 1.025 |  Val. Acc: 88.41%\n",
            "Epoch: 100 | Epoch Time: 0m 39s\n",
            "\tTrain Loss: 0.002 | Train Acc: 99.95%\n",
            "\t Val. Loss: 0.921 |  Val. Acc: 88.42%\n"
          ],
          "name": "stdout"
        }
      ]
    },
    {
      "cell_type": "markdown",
      "metadata": {
        "id": "Wh6f_Z43NGiX"
      },
      "source": [
        "...and get our new and vastly improved test accuracy!"
      ]
    },
    {
      "cell_type": "code",
      "metadata": {
        "id": "MAXtpqHrNGiX"
      },
      "source": [
        "#model.load_state_dict(torch.load('tut2-model.pt'))\n",
        "\n",
        "test_loss, test_acc = evaluate(model, test_iterator, criterion)\n",
        "\n",
        "print(f'Test Loss: {test_loss:.3f} | Test Acc: {test_acc*100:.2f}%')"
      ],
      "execution_count": null,
      "outputs": []
    },
    {
      "cell_type": "code",
      "metadata": {
        "id": "RH0cYy4ah0o5"
      },
      "source": [
        "#from RekogNizer import awsutils\n",
        "my_model = model\n",
        "traced_model = torch.jit.trace(my_model.to(\"cpu\"), (torch.randint(25002, (50,1)), torch.LongTensor([50])))\n",
        "torch.jit.save(traced_model, '/content/s9sentianalysis2.pt')"
      ],
      "execution_count": 28,
      "outputs": []
    },
    {
      "cell_type": "code",
      "metadata": {
        "id": "jItjllCniMdD"
      },
      "source": [
        "import sys,os\n",
        "sys.path.append(\"/content/drive/My Drive/EVA4\")\n",
        "sys.path.append(\"/content/drive/My Drive/EVA4/RekogNizer\")"
      ],
      "execution_count": 30,
      "outputs": []
    },
    {
      "cell_type": "code",
      "metadata": {
        "id": "9Iwn34vZ4PF7",
        "outputId": "70727934-b663-43fc-fa20-0b72e6c7e8f5",
        "colab": {
          "base_uri": "https://localhost:8080/",
          "height": 306
        }
      },
      "source": [
        "!pip install boto3"
      ],
      "execution_count": 32,
      "outputs": [
        {
          "output_type": "stream",
          "text": [
            "Collecting boto3\n",
            "\u001b[?25l  Downloading https://files.pythonhosted.org/packages/2f/08/f1ff665147a5d75b871bbe5ba76916f6490419c52a33e588385c4b69281b/boto3-1.15.18-py2.py3-none-any.whl (129kB)\n",
            "\r\u001b[K     |██▌                             | 10kB 19.6MB/s eta 0:00:01\r\u001b[K     |█████                           | 20kB 1.6MB/s eta 0:00:01\r\u001b[K     |███████▋                        | 30kB 2.3MB/s eta 0:00:01\r\u001b[K     |██████████▏                     | 40kB 1.6MB/s eta 0:00:01\r\u001b[K     |████████████▊                   | 51kB 2.0MB/s eta 0:00:01\r\u001b[K     |███████████████▎                | 61kB 2.4MB/s eta 0:00:01\r\u001b[K     |█████████████████▊              | 71kB 2.7MB/s eta 0:00:01\r\u001b[K     |████████████████████▎           | 81kB 3.1MB/s eta 0:00:01\r\u001b[K     |██████████████████████▉         | 92kB 3.4MB/s eta 0:00:01\r\u001b[K     |█████████████████████████▍      | 102kB 2.7MB/s eta 0:00:01\r\u001b[K     |████████████████████████████    | 112kB 2.7MB/s eta 0:00:01\r\u001b[K     |██████████████████████████████▌ | 122kB 2.7MB/s eta 0:00:01\r\u001b[K     |████████████████████████████████| 133kB 2.7MB/s \n",
            "\u001b[?25hCollecting jmespath<1.0.0,>=0.7.1\n",
            "  Downloading https://files.pythonhosted.org/packages/07/cb/5f001272b6faeb23c1c9e0acc04d48eaaf5c862c17709d20e3469c6e0139/jmespath-0.10.0-py2.py3-none-any.whl\n",
            "Collecting botocore<1.19.0,>=1.18.18\n",
            "\u001b[?25l  Downloading https://files.pythonhosted.org/packages/2d/72/984ac8f33b5c8df5ff63f323a8724f65b4d0f8956968b942b77d35d3a1ef/botocore-1.18.18-py2.py3-none-any.whl (6.7MB)\n",
            "\u001b[K     |████████████████████████████████| 6.7MB 37.6MB/s \n",
            "\u001b[?25hCollecting s3transfer<0.4.0,>=0.3.0\n",
            "\u001b[?25l  Downloading https://files.pythonhosted.org/packages/69/79/e6afb3d8b0b4e96cefbdc690f741d7dd24547ff1f94240c997a26fa908d3/s3transfer-0.3.3-py2.py3-none-any.whl (69kB)\n",
            "\u001b[K     |████████████████████████████████| 71kB 8.1MB/s \n",
            "\u001b[?25hRequirement already satisfied: python-dateutil<3.0.0,>=2.1 in /usr/local/lib/python3.6/dist-packages (from botocore<1.19.0,>=1.18.18->boto3) (2.8.1)\n",
            "Requirement already satisfied: urllib3<1.26,>=1.20; python_version != \"3.4\" in /usr/local/lib/python3.6/dist-packages (from botocore<1.19.0,>=1.18.18->boto3) (1.24.3)\n",
            "Requirement already satisfied: six>=1.5 in /usr/local/lib/python3.6/dist-packages (from python-dateutil<3.0.0,>=2.1->botocore<1.19.0,>=1.18.18->boto3) (1.15.0)\n",
            "Installing collected packages: jmespath, botocore, s3transfer, boto3\n",
            "Successfully installed boto3-1.15.18 botocore-1.18.18 jmespath-0.10.0 s3transfer-0.3.3\n"
          ],
          "name": "stdout"
        }
      ]
    },
    {
      "cell_type": "code",
      "metadata": {
        "id": "0vWJjHUliCil"
      },
      "source": [
        "from RekogNizer import awsutils\n",
        "model_path=\"/content/s9sentianalysis2.pt\"\n",
        "awsutils.upload_model_to_s3('rekog-eva4s1',model_path,os.path.basename(model_path))"
      ],
      "execution_count": 33,
      "outputs": []
    },
    {
      "cell_type": "markdown",
      "metadata": {
        "id": "KZeVxkpVNGia"
      },
      "source": [
        "## User Input\n",
        "\n",
        "We can now use our model to predict the sentiment of any sentence we give it. As it has been trained on movie reviews, the sentences provided should also be movie reviews.\n",
        "\n",
        "When using a model for inference it should always be in evaluation mode. If this tutorial is followed step-by-step then it should already be in evaluation mode (from doing `evaluate` on the test set), however we explicitly set it to avoid any risk.\n",
        "\n",
        "Our `predict_sentiment` function does a few things:\n",
        "- sets the model to evaluation mode\n",
        "- tokenizes the sentence, i.e. splits it from a raw string into a list of tokens\n",
        "- indexes the tokens by converting them into their integer representation from our vocabulary\n",
        "- gets the length of our sequence\n",
        "- converts the indexes, which are a Python list into a PyTorch tensor\n",
        "- add a batch dimension by `unsqueeze`ing \n",
        "- converts the length into a tensor\n",
        "- squashes the output prediction from a real number between 0 and 1 with the `sigmoid` function\n",
        "- converts the tensor holding a single value into an integer with the `item()` method\n",
        "\n",
        "We are expecting reviews with a negative sentiment to return a value close to 0 and positive reviews to return a value close to 1."
      ]
    },
    {
      "cell_type": "code",
      "metadata": {
        "id": "uJaCZ9XLNGia"
      },
      "source": [
        "import spacy\n",
        "#nlp = spacy.load('en')\n",
        "nlp = spacy.load('en_core_web_sm')\n",
        "\n",
        "def predict_sentiment(model, sentence):\n",
        "    model.eval()\n",
        "    tokenized = [tok.text for tok in nlp.tokenizer(sentence)]\n",
        "    indexed = [TEXT.vocab.stoi[t] for t in tokenized]\n",
        "    length = [len(indexed)]\n",
        "    tensor = torch.LongTensor(indexed).to(device)\n",
        "    tensor = tensor.unsqueeze(1)\n",
        "    length_tensor = torch.LongTensor(length)\n",
        "    prediction = torch.sigmoid(model(tensor, length_tensor))\n",
        "    return prediction.item()"
      ],
      "execution_count": null,
      "outputs": []
    },
    {
      "cell_type": "markdown",
      "metadata": {
        "id": "Kox1_cKDNGid"
      },
      "source": [
        "An example negative review..."
      ]
    },
    {
      "cell_type": "code",
      "metadata": {
        "id": "-uYMZk4ENGie",
        "outputId": "8e2322a0-0b2e-4625-f0f4-2ba14486d80e",
        "colab": {
          "base_uri": "https://localhost:8080/",
          "height": 35
        }
      },
      "source": [
        "predict_sentiment(model, \"I wanted to watch a good movie. This was the one\")"
      ],
      "execution_count": null,
      "outputs": [
        {
          "output_type": "execute_result",
          "data": {
            "text/plain": [
              "0.927352249622345"
            ]
          },
          "metadata": {
            "tags": []
          },
          "execution_count": 52
        }
      ]
    },
    {
      "cell_type": "markdown",
      "metadata": {
        "id": "E-JOtouqNGii"
      },
      "source": [
        "An example positive review..."
      ]
    },
    {
      "cell_type": "code",
      "metadata": {
        "id": "kDWK2rjHNGii",
        "outputId": "928bfca0-23e4-49aa-a8cd-2f839465ad68",
        "colab": {
          "base_uri": "https://localhost:8080/",
          "height": 35
        }
      },
      "source": [
        "predict_sentiment(model, \"This film is great\")"
      ],
      "execution_count": null,
      "outputs": [
        {
          "output_type": "execute_result",
          "data": {
            "text/plain": [
              "0.99233078956604"
            ]
          },
          "metadata": {
            "tags": []
          },
          "execution_count": 24
        }
      ]
    },
    {
      "cell_type": "markdown",
      "metadata": {
        "id": "JfKZFoyJNGil"
      },
      "source": [
        "## Next Steps\n",
        "\n",
        "We've now built a decent sentiment analysis model for movie reviews! In the next notebook we'll implement a model that gets comparable accuracy with far fewer parameters and trains much, much faster. Also the model is deployed on AWS "
      ]
    },
    {
      "cell_type": "code",
      "metadata": {
        "id": "WlAH4_gC2OkW"
      },
      "source": [
        "from RekogNizer import awsutils\n",
        "#awsutils.upload_model_to_s3('rekog-eva4s1','/content/dict.pickle',os.path.basename('/content/dict.pickle'))"
      ],
      "execution_count": null,
      "outputs": []
    }
  ]
}